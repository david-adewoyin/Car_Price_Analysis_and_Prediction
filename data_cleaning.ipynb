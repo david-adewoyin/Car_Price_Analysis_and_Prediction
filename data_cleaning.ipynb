{
 "cells": [
  {
   "cell_type": "markdown",
   "id": "2b267c0f",
   "metadata": {},
   "source": [
    "## Car Price Prediction [ Data Cleaning and Preparation]\n",
    "There are numerous factors to consider when deciding how much to pay to buy or sell a car. We can explore the data collected from the online marketplaces listed below, to answer questions that may influence our decision when deciding to buy and sell a car, such as which car brand is the most popular and valued in the region, and finally, we can build a machine learning model to estimate how much to price a car.\n",
    "\n",
    "Data was collected from the two marketplaces listed below:\n",
    "- [cars45](https://www.cars45.com/)\n",
    "- [autochek.africa](https://autochek.africa/ng/cars-for-sale)  \n",
    "\n",
    "And this notebook details the steps performed in order to properly clean and prepare the data for data exploration and model building."
   ]
  },
  {
   "cell_type": "code",
   "execution_count": 1,
   "id": "2231577b",
   "metadata": {},
   "outputs": [],
   "source": [
    "# importing required packages\n",
    "import math\n",
    "import numpy as np\n",
    "import pandas as pd\n",
    "import seaborn as sns\n",
    "import matplotlib.pyplot as plt"
   ]
  },
  {
   "cell_type": "code",
   "execution_count": 2,
   "id": "cb3fa03c",
   "metadata": {},
   "outputs": [],
   "source": [
    "# reading in the cars dataset\n",
    "autochek_df = pd.read_csv(\"data/autochek.csv\")\n",
    "cars45_df = pd.read_csv(\"data/cars45.csv\")"
   ]
  },
  {
   "cell_type": "markdown",
   "id": "14a20c08",
   "metadata": {},
   "source": [
    "##  Understanding the data\n",
    "The first step in data cleaning and preparation is to understand the data. Here,  it's important to get a feel for the data by examining a sample of the records and going through each of the columns to understand what kind of values are allowed and stored in each of the columns."
   ]
  },
  {
   "cell_type": "code",
   "execution_count": 3,
   "id": "0e720a7e",
   "metadata": {},
   "outputs": [
    {
     "name": "stdout",
     "output_type": "stream",
     "text": [
      "Number of records in autochek dataset: 696\n",
      "Number of records in cars45 dataset: 1830\n"
     ]
    }
   ],
   "source": [
    "## we have 2526 records\n",
    "print(f\"Number of records in autochek dataset: {len(autochek_df)}\")\n",
    "print(f\"Number of records in cars45 dataset: {len(cars45_df)}\")"
   ]
  },
  {
   "cell_type": "code",
   "execution_count": 4,
   "id": "31c9a011",
   "metadata": {},
   "outputs": [
    {
     "data": {
      "text/html": [
       "<div>\n",
       "<style scoped>\n",
       "    .dataframe tbody tr th:only-of-type {\n",
       "        vertical-align: middle;\n",
       "    }\n",
       "\n",
       "    .dataframe tbody tr th {\n",
       "        vertical-align: top;\n",
       "    }\n",
       "\n",
       "    .dataframe thead th {\n",
       "        text-align: right;\n",
       "    }\n",
       "</style>\n",
       "<table border=\"1\" class=\"dataframe\">\n",
       "  <thead>\n",
       "    <tr style=\"text-align: right;\">\n",
       "      <th></th>\n",
       "      <th>Unnamed: 0</th>\n",
       "      <th>Brand</th>\n",
       "      <th>Model</th>\n",
       "      <th>Year</th>\n",
       "      <th>Mileage</th>\n",
       "      <th>Condition</th>\n",
       "      <th>Price</th>\n",
       "      <th>Engine Type</th>\n",
       "      <th>Engine Capacity</th>\n",
       "      <th>Exterior Color</th>\n",
       "      <th>Ratings</th>\n",
       "    </tr>\n",
       "  </thead>\n",
       "  <tbody>\n",
       "    <tr>\n",
       "      <th>0</th>\n",
       "      <td>0</td>\n",
       "      <td>Toyota</td>\n",
       "      <td>Toyota Corolla</td>\n",
       "      <td>2015</td>\n",
       "      <td>186,024</td>\n",
       "      <td>Foreign Used</td>\n",
       "      <td>₦ 7,530,000</td>\n",
       "      <td>4-Cylinder(I4)</td>\n",
       "      <td>Approx. 1000</td>\n",
       "      <td>Grey</td>\n",
       "      <td>(4.20)</td>\n",
       "    </tr>\n",
       "    <tr>\n",
       "      <th>1</th>\n",
       "      <td>1</td>\n",
       "      <td>Mercedes-Benz</td>\n",
       "      <td>Mercedes-Benz GLK 350</td>\n",
       "      <td>2015</td>\n",
       "      <td>87,465</td>\n",
       "      <td>Foreign Used</td>\n",
       "      <td>₦ 13,530,000</td>\n",
       "      <td>6-Cylinder(V6)</td>\n",
       "      <td>Approx. 3</td>\n",
       "      <td>Black</td>\n",
       "      <td>(4.50)</td>\n",
       "    </tr>\n",
       "    <tr>\n",
       "      <th>2</th>\n",
       "      <td>2</td>\n",
       "      <td>Toyota</td>\n",
       "      <td>Toyota Highlander</td>\n",
       "      <td>2008</td>\n",
       "      <td>142,719</td>\n",
       "      <td>Foreign Used</td>\n",
       "      <td>₦ 7,230,000</td>\n",
       "      <td>6-Cylinder(V6)</td>\n",
       "      <td>Approx. 3500</td>\n",
       "      <td>Red</td>\n",
       "      <td>(4.40)</td>\n",
       "    </tr>\n",
       "    <tr>\n",
       "      <th>3</th>\n",
       "      <td>3</td>\n",
       "      <td>Toyota</td>\n",
       "      <td>Toyota Sienna</td>\n",
       "      <td>2006</td>\n",
       "      <td>115,232</td>\n",
       "      <td>Foreign Used</td>\n",
       "      <td>₦ 4,880,000</td>\n",
       "      <td>6-Cylinder(I6)</td>\n",
       "      <td>Approx. 3</td>\n",
       "      <td>Gold</td>\n",
       "      <td>(4.50)</td>\n",
       "    </tr>\n",
       "    <tr>\n",
       "      <th>4</th>\n",
       "      <td>4</td>\n",
       "      <td>Hyundai</td>\n",
       "      <td>Hyundai Grand Santa Fe</td>\n",
       "      <td>2013</td>\n",
       "      <td>110,903</td>\n",
       "      <td>Foreign Used</td>\n",
       "      <td>₦ 9,015,000</td>\n",
       "      <td>6-Cylinder(V6)</td>\n",
       "      <td>Approx. 3300</td>\n",
       "      <td>Silver</td>\n",
       "      <td>(4.00)</td>\n",
       "    </tr>\n",
       "  </tbody>\n",
       "</table>\n",
       "</div>"
      ],
      "text/plain": [
       "   Unnamed: 0          Brand                   Model  Year  Mileage  \\\n",
       "0           0         Toyota          Toyota Corolla  2015  186,024   \n",
       "1           1  Mercedes-Benz   Mercedes-Benz GLK 350  2015   87,465   \n",
       "2           2         Toyota       Toyota Highlander  2008  142,719   \n",
       "3           3         Toyota           Toyota Sienna  2006  115,232   \n",
       "4           4        Hyundai  Hyundai Grand Santa Fe  2013  110,903   \n",
       "\n",
       "      Condition         Price     Engine Type Engine Capacity Exterior Color  \\\n",
       "0  Foreign Used   ₦ 7,530,000  4-Cylinder(I4)    Approx. 1000           Grey   \n",
       "1  Foreign Used  ₦ 13,530,000  6-Cylinder(V6)       Approx. 3          Black   \n",
       "2  Foreign Used   ₦ 7,230,000  6-Cylinder(V6)    Approx. 3500            Red   \n",
       "3  Foreign Used   ₦ 4,880,000  6-Cylinder(I6)       Approx. 3           Gold   \n",
       "4  Foreign Used   ₦ 9,015,000  6-Cylinder(V6)    Approx. 3300         Silver   \n",
       "\n",
       "   Ratings  \n",
       "0   (4.20)  \n",
       "1   (4.50)  \n",
       "2   (4.40)  \n",
       "3   (4.50)  \n",
       "4   (4.00)  "
      ]
     },
     "execution_count": 4,
     "metadata": {},
     "output_type": "execute_result"
    }
   ],
   "source": [
    "## Starting data cleaning firstly with the autochek dataset\n",
    "autochek_df.head()"
   ]
  },
  {
   "cell_type": "code",
   "execution_count": 5,
   "id": "6795a66e",
   "metadata": {},
   "outputs": [
    {
     "name": "stdout",
     "output_type": "stream",
     "text": [
      "<class 'pandas.core.frame.DataFrame'>\n",
      "RangeIndex: 696 entries, 0 to 695\n",
      "Data columns (total 11 columns):\n",
      " #   Column           Non-Null Count  Dtype \n",
      "---  ------           --------------  ----- \n",
      " 0   Unnamed: 0       696 non-null    int64 \n",
      " 1   Brand            696 non-null    object\n",
      " 2   Model            696 non-null    object\n",
      " 3   Year             696 non-null    int64 \n",
      " 4   Mileage          696 non-null    object\n",
      " 5   Condition        696 non-null    object\n",
      " 6   Price            696 non-null    object\n",
      " 7   Engine Type      696 non-null    object\n",
      " 8   Engine Capacity  696 non-null    object\n",
      " 9   Exterior Color   696 non-null    object\n",
      " 10  Ratings          540 non-null    object\n",
      "dtypes: int64(2), object(9)\n",
      "memory usage: 59.9+ KB\n"
     ]
    }
   ],
   "source": [
    "## printing out the columns information\n",
    "autochek_df.info()"
   ]
  },
  {
   "cell_type": "markdown",
   "id": "ffdef485",
   "metadata": {},
   "source": [
    "## Data Cleaning\n",
    "Data cleaning is one of the most essential subtasks in any data science project.  \n",
    "Looking at the subset of the data above, we can see that a few of the columns, such as **Mileage, price**, and **Ratings** containing special characters such as [ ₦, commas, whitespaces, and brackets], which we will proceed to remove.\n",
    "We also drop the redundant **Unnamed: 0** column."
   ]
  },
  {
   "cell_type": "code",
   "execution_count": 6,
   "id": "f08b36ef",
   "metadata": {},
   "outputs": [],
   "source": [
    "# droping the Unnamed:0 columns\n",
    "autochek_df = autochek_df.drop('Unnamed: 0',axis=1)"
   ]
  },
  {
   "cell_type": "code",
   "execution_count": 7,
   "id": "e94f20c2",
   "metadata": {},
   "outputs": [
    {
     "data": {
      "text/html": [
       "<div>\n",
       "<style scoped>\n",
       "    .dataframe tbody tr th:only-of-type {\n",
       "        vertical-align: middle;\n",
       "    }\n",
       "\n",
       "    .dataframe tbody tr th {\n",
       "        vertical-align: top;\n",
       "    }\n",
       "\n",
       "    .dataframe thead th {\n",
       "        text-align: right;\n",
       "    }\n",
       "</style>\n",
       "<table border=\"1\" class=\"dataframe\">\n",
       "  <thead>\n",
       "    <tr style=\"text-align: right;\">\n",
       "      <th></th>\n",
       "      <th>Brand</th>\n",
       "      <th>Model</th>\n",
       "      <th>Year</th>\n",
       "      <th>Mileage</th>\n",
       "      <th>Condition</th>\n",
       "      <th>Price</th>\n",
       "      <th>Engine Type</th>\n",
       "      <th>Engine Capacity</th>\n",
       "      <th>Exterior Color</th>\n",
       "      <th>Ratings</th>\n",
       "    </tr>\n",
       "  </thead>\n",
       "  <tbody>\n",
       "    <tr>\n",
       "      <th>0</th>\n",
       "      <td>Toyota</td>\n",
       "      <td>Toyota Corolla</td>\n",
       "      <td>2015</td>\n",
       "      <td>186,024</td>\n",
       "      <td>Foreign Used</td>\n",
       "      <td>₦ 7,530,000</td>\n",
       "      <td>4-Cylinder(I4)</td>\n",
       "      <td>Approx. 1000</td>\n",
       "      <td>Grey</td>\n",
       "      <td>4.20</td>\n",
       "    </tr>\n",
       "    <tr>\n",
       "      <th>1</th>\n",
       "      <td>Mercedes-Benz</td>\n",
       "      <td>Mercedes-Benz GLK 350</td>\n",
       "      <td>2015</td>\n",
       "      <td>87,465</td>\n",
       "      <td>Foreign Used</td>\n",
       "      <td>₦ 13,530,000</td>\n",
       "      <td>6-Cylinder(V6)</td>\n",
       "      <td>Approx. 3</td>\n",
       "      <td>Black</td>\n",
       "      <td>4.50</td>\n",
       "    </tr>\n",
       "    <tr>\n",
       "      <th>2</th>\n",
       "      <td>Toyota</td>\n",
       "      <td>Toyota Highlander</td>\n",
       "      <td>2008</td>\n",
       "      <td>142,719</td>\n",
       "      <td>Foreign Used</td>\n",
       "      <td>₦ 7,230,000</td>\n",
       "      <td>6-Cylinder(V6)</td>\n",
       "      <td>Approx. 3500</td>\n",
       "      <td>Red</td>\n",
       "      <td>4.40</td>\n",
       "    </tr>\n",
       "    <tr>\n",
       "      <th>3</th>\n",
       "      <td>Toyota</td>\n",
       "      <td>Toyota Sienna</td>\n",
       "      <td>2006</td>\n",
       "      <td>115,232</td>\n",
       "      <td>Foreign Used</td>\n",
       "      <td>₦ 4,880,000</td>\n",
       "      <td>6-Cylinder(I6)</td>\n",
       "      <td>Approx. 3</td>\n",
       "      <td>Gold</td>\n",
       "      <td>4.50</td>\n",
       "    </tr>\n",
       "    <tr>\n",
       "      <th>4</th>\n",
       "      <td>Hyundai</td>\n",
       "      <td>Hyundai Grand Santa Fe</td>\n",
       "      <td>2013</td>\n",
       "      <td>110,903</td>\n",
       "      <td>Foreign Used</td>\n",
       "      <td>₦ 9,015,000</td>\n",
       "      <td>6-Cylinder(V6)</td>\n",
       "      <td>Approx. 3300</td>\n",
       "      <td>Silver</td>\n",
       "      <td>4.00</td>\n",
       "    </tr>\n",
       "  </tbody>\n",
       "</table>\n",
       "</div>"
      ],
      "text/plain": [
       "           Brand                   Model  Year  Mileage     Condition  \\\n",
       "0         Toyota          Toyota Corolla  2015  186,024  Foreign Used   \n",
       "1  Mercedes-Benz   Mercedes-Benz GLK 350  2015   87,465  Foreign Used   \n",
       "2         Toyota       Toyota Highlander  2008  142,719  Foreign Used   \n",
       "3         Toyota           Toyota Sienna  2006  115,232  Foreign Used   \n",
       "4        Hyundai  Hyundai Grand Santa Fe  2013  110,903  Foreign Used   \n",
       "\n",
       "          Price     Engine Type Engine Capacity Exterior Color Ratings  \n",
       "0   ₦ 7,530,000  4-Cylinder(I4)    Approx. 1000           Grey    4.20  \n",
       "1  ₦ 13,530,000  6-Cylinder(V6)       Approx. 3          Black    4.50  \n",
       "2   ₦ 7,230,000  6-Cylinder(V6)    Approx. 3500            Red    4.40  \n",
       "3   ₦ 4,880,000  6-Cylinder(I6)       Approx. 3           Gold    4.50  \n",
       "4   ₦ 9,015,000  6-Cylinder(V6)    Approx. 3300         Silver    4.00  "
      ]
     },
     "execution_count": 7,
     "metadata": {},
     "output_type": "execute_result"
    }
   ],
   "source": [
    "## removing the brackets in the ratings columns\n",
    "autochek_df['Ratings'] = autochek_df['Ratings'].str.replace(\"[()]\",'',regex=True)\n",
    "autochek_df.head()"
   ]
  },
  {
   "cell_type": "code",
   "execution_count": 8,
   "id": "4a34e854",
   "metadata": {},
   "outputs": [
    {
     "data": {
      "text/html": [
       "<div>\n",
       "<style scoped>\n",
       "    .dataframe tbody tr th:only-of-type {\n",
       "        vertical-align: middle;\n",
       "    }\n",
       "\n",
       "    .dataframe tbody tr th {\n",
       "        vertical-align: top;\n",
       "    }\n",
       "\n",
       "    .dataframe thead th {\n",
       "        text-align: right;\n",
       "    }\n",
       "</style>\n",
       "<table border=\"1\" class=\"dataframe\">\n",
       "  <thead>\n",
       "    <tr style=\"text-align: right;\">\n",
       "      <th></th>\n",
       "      <th>Brand</th>\n",
       "      <th>Model</th>\n",
       "      <th>Year</th>\n",
       "      <th>Mileage</th>\n",
       "      <th>Condition</th>\n",
       "      <th>Price</th>\n",
       "      <th>Engine Type</th>\n",
       "      <th>Engine Capacity</th>\n",
       "      <th>Exterior Color</th>\n",
       "      <th>Ratings</th>\n",
       "    </tr>\n",
       "  </thead>\n",
       "  <tbody>\n",
       "    <tr>\n",
       "      <th>0</th>\n",
       "      <td>Toyota</td>\n",
       "      <td>Toyota Corolla</td>\n",
       "      <td>2015</td>\n",
       "      <td>186024</td>\n",
       "      <td>Foreign Used</td>\n",
       "      <td>7530000</td>\n",
       "      <td>4-Cylinder(I4)</td>\n",
       "      <td>Approx. 1000</td>\n",
       "      <td>Grey</td>\n",
       "      <td>4.20</td>\n",
       "    </tr>\n",
       "    <tr>\n",
       "      <th>1</th>\n",
       "      <td>Mercedes-Benz</td>\n",
       "      <td>Mercedes-Benz GLK 350</td>\n",
       "      <td>2015</td>\n",
       "      <td>87465</td>\n",
       "      <td>Foreign Used</td>\n",
       "      <td>13530000</td>\n",
       "      <td>6-Cylinder(V6)</td>\n",
       "      <td>Approx. 3</td>\n",
       "      <td>Black</td>\n",
       "      <td>4.50</td>\n",
       "    </tr>\n",
       "    <tr>\n",
       "      <th>2</th>\n",
       "      <td>Toyota</td>\n",
       "      <td>Toyota Highlander</td>\n",
       "      <td>2008</td>\n",
       "      <td>142719</td>\n",
       "      <td>Foreign Used</td>\n",
       "      <td>7230000</td>\n",
       "      <td>6-Cylinder(V6)</td>\n",
       "      <td>Approx. 3500</td>\n",
       "      <td>Red</td>\n",
       "      <td>4.40</td>\n",
       "    </tr>\n",
       "    <tr>\n",
       "      <th>3</th>\n",
       "      <td>Toyota</td>\n",
       "      <td>Toyota Sienna</td>\n",
       "      <td>2006</td>\n",
       "      <td>115232</td>\n",
       "      <td>Foreign Used</td>\n",
       "      <td>4880000</td>\n",
       "      <td>6-Cylinder(I6)</td>\n",
       "      <td>Approx. 3</td>\n",
       "      <td>Gold</td>\n",
       "      <td>4.50</td>\n",
       "    </tr>\n",
       "    <tr>\n",
       "      <th>4</th>\n",
       "      <td>Hyundai</td>\n",
       "      <td>Hyundai Grand Santa Fe</td>\n",
       "      <td>2013</td>\n",
       "      <td>110903</td>\n",
       "      <td>Foreign Used</td>\n",
       "      <td>9015000</td>\n",
       "      <td>6-Cylinder(V6)</td>\n",
       "      <td>Approx. 3300</td>\n",
       "      <td>Silver</td>\n",
       "      <td>4.00</td>\n",
       "    </tr>\n",
       "  </tbody>\n",
       "</table>\n",
       "</div>"
      ],
      "text/plain": [
       "           Brand                   Model  Year Mileage     Condition  \\\n",
       "0         Toyota          Toyota Corolla  2015  186024  Foreign Used   \n",
       "1  Mercedes-Benz   Mercedes-Benz GLK 350  2015   87465  Foreign Used   \n",
       "2         Toyota       Toyota Highlander  2008  142719  Foreign Used   \n",
       "3         Toyota           Toyota Sienna  2006  115232  Foreign Used   \n",
       "4        Hyundai  Hyundai Grand Santa Fe  2013  110903  Foreign Used   \n",
       "\n",
       "       Price     Engine Type Engine Capacity Exterior Color Ratings  \n",
       "0    7530000  4-Cylinder(I4)    Approx. 1000           Grey    4.20  \n",
       "1   13530000  6-Cylinder(V6)       Approx. 3          Black    4.50  \n",
       "2    7230000  6-Cylinder(V6)    Approx. 3500            Red    4.40  \n",
       "3    4880000  6-Cylinder(I6)       Approx. 3           Gold    4.50  \n",
       "4    9015000  6-Cylinder(V6)    Approx. 3300         Silver    4.00  "
      ]
     },
     "execution_count": 8,
     "metadata": {},
     "output_type": "execute_result"
    }
   ],
   "source": [
    "# removing the naira currency and commas from the Price and Mileage column\n",
    "autochek_df = autochek_df.assign(\n",
    "    Price = autochek_df[\"Price\"].str.replace(\"[₦,]\",'',regex=True),\n",
    "    Mileage = autochek_df[\"Mileage\"].str.replace(\",\",'',)\n",
    "    )\n",
    "autochek_df.head()"
   ]
  },
  {
   "cell_type": "markdown",
   "id": "039803ad",
   "metadata": {},
   "source": [
    "## Cleaning the Brand Column\n",
    "Looking at specific brand names, we can certain names appearing as shortened form of another, in which we need to properly replace into the full form"
   ]
  },
  {
   "cell_type": "code",
   "execution_count": 9,
   "id": "ab00b351",
   "metadata": {},
   "outputs": [
    {
     "data": {
      "text/plain": [
       "Toyota           337\n",
       "Lexus             74\n",
       "Mercedes-Benz     60\n",
       "Ford              29\n",
       "Kia               27\n",
       "Honda             25\n",
       "Hyundai           18\n",
       "IVM               15\n",
       "Suzuki            14\n",
       "JAC               12\n",
       "Mitsubishi        11\n",
       "Renault           11\n",
       "Foton              7\n",
       "DONGFENG           6\n",
       "Chevrolet          6\n",
       "Land               6\n",
       "Acura              6\n",
       "Nissan             5\n",
       "Jeep               3\n",
       "Fiat               3\n",
       "Pontiac            3\n",
       "Mazda              3\n",
       "MINI               3\n",
       "Volkswagen         2\n",
       "Audi               2\n",
       "Dodge              2\n",
       "Volvo              1\n",
       "Infiniti           1\n",
       "Chrysler           1\n",
       "BMW                1\n",
       "Jaguar             1\n",
       "GEELY              1\n",
       "Name: Brand, dtype: int64"
      ]
     },
     "execution_count": 9,
     "metadata": {},
     "output_type": "execute_result"
    }
   ],
   "source": [
    "autochek_df[\"Brand\"].value_counts()"
   ]
  },
  {
   "cell_type": "code",
   "execution_count": 10,
   "id": "6c06e72e",
   "metadata": {},
   "outputs": [
    {
     "data": {
      "text/html": [
       "<div>\n",
       "<style scoped>\n",
       "    .dataframe tbody tr th:only-of-type {\n",
       "        vertical-align: middle;\n",
       "    }\n",
       "\n",
       "    .dataframe tbody tr th {\n",
       "        vertical-align: top;\n",
       "    }\n",
       "\n",
       "    .dataframe thead th {\n",
       "        text-align: right;\n",
       "    }\n",
       "</style>\n",
       "<table border=\"1\" class=\"dataframe\">\n",
       "  <thead>\n",
       "    <tr style=\"text-align: right;\">\n",
       "      <th></th>\n",
       "      <th>Brand</th>\n",
       "      <th>Model</th>\n",
       "      <th>Year</th>\n",
       "      <th>Mileage</th>\n",
       "      <th>Condition</th>\n",
       "      <th>Price</th>\n",
       "      <th>Engine Type</th>\n",
       "      <th>Engine Capacity</th>\n",
       "      <th>Exterior Color</th>\n",
       "      <th>Ratings</th>\n",
       "    </tr>\n",
       "  </thead>\n",
       "  <tbody>\n",
       "    <tr>\n",
       "      <th>103</th>\n",
       "      <td>Land</td>\n",
       "      <td>Land Rover Range Rover</td>\n",
       "      <td>2014</td>\n",
       "      <td>44492</td>\n",
       "      <td>Foreign Used</td>\n",
       "      <td>35030000</td>\n",
       "      <td>6-Cylinder(V6)</td>\n",
       "      <td>Approx. 1500</td>\n",
       "      <td>White</td>\n",
       "      <td>4.40</td>\n",
       "    </tr>\n",
       "    <tr>\n",
       "      <th>106</th>\n",
       "      <td>Land</td>\n",
       "      <td>Land Rover range rover Hse</td>\n",
       "      <td>2013</td>\n",
       "      <td>150599</td>\n",
       "      <td>Foreign Used</td>\n",
       "      <td>30015000</td>\n",
       "      <td>8-Cylinder(V8)</td>\n",
       "      <td>Approx. N/A</td>\n",
       "      <td>Black</td>\n",
       "      <td>4.30</td>\n",
       "    </tr>\n",
       "    <tr>\n",
       "      <th>317</th>\n",
       "      <td>Land</td>\n",
       "      <td>Land Rover Range Rover</td>\n",
       "      <td>2011</td>\n",
       "      <td>123648</td>\n",
       "      <td>Foreign Used</td>\n",
       "      <td>14015000</td>\n",
       "      <td>8-Cylinder(V8)</td>\n",
       "      <td>Approx. 1000</td>\n",
       "      <td>Dark Blue</td>\n",
       "      <td>4.40</td>\n",
       "    </tr>\n",
       "    <tr>\n",
       "      <th>320</th>\n",
       "      <td>Land</td>\n",
       "      <td>Land Rover Range Rover</td>\n",
       "      <td>2018</td>\n",
       "      <td>18181</td>\n",
       "      <td>Locally used</td>\n",
       "      <td>65605000</td>\n",
       "      <td>8-Cylinder(V8)</td>\n",
       "      <td>Approx. 5</td>\n",
       "      <td>Black</td>\n",
       "      <td>3.50</td>\n",
       "    </tr>\n",
       "    <tr>\n",
       "      <th>496</th>\n",
       "      <td>Land</td>\n",
       "      <td>Land Rover range rover Hse</td>\n",
       "      <td>2018</td>\n",
       "      <td>44547</td>\n",
       "      <td>Foreign Used</td>\n",
       "      <td>64515000</td>\n",
       "      <td>6-Cylinder(V6)</td>\n",
       "      <td>Approx. 6</td>\n",
       "      <td>Black</td>\n",
       "      <td>4.50</td>\n",
       "    </tr>\n",
       "    <tr>\n",
       "      <th>655</th>\n",
       "      <td>Land</td>\n",
       "      <td>Land Rover Range Rover</td>\n",
       "      <td>2014</td>\n",
       "      <td>72556</td>\n",
       "      <td>Locally used</td>\n",
       "      <td>23015000</td>\n",
       "      <td>6-Cylinder(I6)</td>\n",
       "      <td>Approx. 6000</td>\n",
       "      <td>Black</td>\n",
       "      <td>0.00</td>\n",
       "    </tr>\n",
       "  </tbody>\n",
       "</table>\n",
       "</div>"
      ],
      "text/plain": [
       "    Brand                       Model  Year Mileage     Condition      Price  \\\n",
       "103  Land      Land Rover Range Rover  2014   44492  Foreign Used   35030000   \n",
       "106  Land  Land Rover range rover Hse  2013  150599  Foreign Used   30015000   \n",
       "317  Land      Land Rover Range Rover  2011  123648  Foreign Used   14015000   \n",
       "320  Land      Land Rover Range Rover  2018   18181  Locally used   65605000   \n",
       "496  Land  Land Rover range rover Hse  2018   44547  Foreign Used   64515000   \n",
       "655  Land      Land Rover Range Rover  2014   72556  Locally used   23015000   \n",
       "\n",
       "        Engine Type Engine Capacity Exterior Color Ratings  \n",
       "103  6-Cylinder(V6)    Approx. 1500          White    4.40  \n",
       "106  8-Cylinder(V8)     Approx. N/A          Black    4.30  \n",
       "317  8-Cylinder(V8)    Approx. 1000      Dark Blue    4.40  \n",
       "320  8-Cylinder(V8)       Approx. 5          Black    3.50  \n",
       "496  6-Cylinder(V6)       Approx. 6          Black    4.50  \n",
       "655  6-Cylinder(I6)    Approx. 6000          Black    0.00  "
      ]
     },
     "execution_count": 10,
     "metadata": {},
     "output_type": "execute_result"
    }
   ],
   "source": [
    "## Checking the rows with the Land brand, we can see the brand was shortened from Land Rover and\n",
    "#the Models needs to be correctly edited as Range Rover \n",
    "autochek_df[autochek_df[\"Brand\"]=='Land']"
   ]
  },
  {
   "cell_type": "code",
   "execution_count": 11,
   "id": "05a255b2",
   "metadata": {},
   "outputs": [],
   "source": [
    "autochek_df.loc[autochek_df['Brand']=='Land','Model']='Land Range Rover'## The Land will be removed in the next step\n",
    "autochek_df.loc[autochek_df['Brand']=='Land','Brand']='Land Rover'"
   ]
  },
  {
   "cell_type": "code",
   "execution_count": 12,
   "id": "e79f0140",
   "metadata": {},
   "outputs": [
    {
     "data": {
      "text/html": [
       "<div>\n",
       "<style scoped>\n",
       "    .dataframe tbody tr th:only-of-type {\n",
       "        vertical-align: middle;\n",
       "    }\n",
       "\n",
       "    .dataframe tbody tr th {\n",
       "        vertical-align: top;\n",
       "    }\n",
       "\n",
       "    .dataframe thead th {\n",
       "        text-align: right;\n",
       "    }\n",
       "</style>\n",
       "<table border=\"1\" class=\"dataframe\">\n",
       "  <thead>\n",
       "    <tr style=\"text-align: right;\">\n",
       "      <th></th>\n",
       "      <th>Brand</th>\n",
       "      <th>Model</th>\n",
       "      <th>Year</th>\n",
       "      <th>Mileage</th>\n",
       "      <th>Condition</th>\n",
       "      <th>Price</th>\n",
       "      <th>Engine Type</th>\n",
       "      <th>Engine Capacity</th>\n",
       "      <th>Exterior Color</th>\n",
       "      <th>Ratings</th>\n",
       "    </tr>\n",
       "  </thead>\n",
       "  <tbody>\n",
       "    <tr>\n",
       "      <th>103</th>\n",
       "      <td>Land Rover</td>\n",
       "      <td>Land Range Rover</td>\n",
       "      <td>2014</td>\n",
       "      <td>44492</td>\n",
       "      <td>Foreign Used</td>\n",
       "      <td>35030000</td>\n",
       "      <td>6-Cylinder(V6)</td>\n",
       "      <td>Approx. 1500</td>\n",
       "      <td>White</td>\n",
       "      <td>4.40</td>\n",
       "    </tr>\n",
       "    <tr>\n",
       "      <th>106</th>\n",
       "      <td>Land Rover</td>\n",
       "      <td>Land Range Rover</td>\n",
       "      <td>2013</td>\n",
       "      <td>150599</td>\n",
       "      <td>Foreign Used</td>\n",
       "      <td>30015000</td>\n",
       "      <td>8-Cylinder(V8)</td>\n",
       "      <td>Approx. N/A</td>\n",
       "      <td>Black</td>\n",
       "      <td>4.30</td>\n",
       "    </tr>\n",
       "    <tr>\n",
       "      <th>317</th>\n",
       "      <td>Land Rover</td>\n",
       "      <td>Land Range Rover</td>\n",
       "      <td>2011</td>\n",
       "      <td>123648</td>\n",
       "      <td>Foreign Used</td>\n",
       "      <td>14015000</td>\n",
       "      <td>8-Cylinder(V8)</td>\n",
       "      <td>Approx. 1000</td>\n",
       "      <td>Dark Blue</td>\n",
       "      <td>4.40</td>\n",
       "    </tr>\n",
       "    <tr>\n",
       "      <th>320</th>\n",
       "      <td>Land Rover</td>\n",
       "      <td>Land Range Rover</td>\n",
       "      <td>2018</td>\n",
       "      <td>18181</td>\n",
       "      <td>Locally used</td>\n",
       "      <td>65605000</td>\n",
       "      <td>8-Cylinder(V8)</td>\n",
       "      <td>Approx. 5</td>\n",
       "      <td>Black</td>\n",
       "      <td>3.50</td>\n",
       "    </tr>\n",
       "    <tr>\n",
       "      <th>496</th>\n",
       "      <td>Land Rover</td>\n",
       "      <td>Land Range Rover</td>\n",
       "      <td>2018</td>\n",
       "      <td>44547</td>\n",
       "      <td>Foreign Used</td>\n",
       "      <td>64515000</td>\n",
       "      <td>6-Cylinder(V6)</td>\n",
       "      <td>Approx. 6</td>\n",
       "      <td>Black</td>\n",
       "      <td>4.50</td>\n",
       "    </tr>\n",
       "    <tr>\n",
       "      <th>655</th>\n",
       "      <td>Land Rover</td>\n",
       "      <td>Land Range Rover</td>\n",
       "      <td>2014</td>\n",
       "      <td>72556</td>\n",
       "      <td>Locally used</td>\n",
       "      <td>23015000</td>\n",
       "      <td>6-Cylinder(I6)</td>\n",
       "      <td>Approx. 6000</td>\n",
       "      <td>Black</td>\n",
       "      <td>0.00</td>\n",
       "    </tr>\n",
       "  </tbody>\n",
       "</table>\n",
       "</div>"
      ],
      "text/plain": [
       "          Brand             Model  Year Mileage     Condition      Price  \\\n",
       "103  Land Rover  Land Range Rover  2014   44492  Foreign Used   35030000   \n",
       "106  Land Rover  Land Range Rover  2013  150599  Foreign Used   30015000   \n",
       "317  Land Rover  Land Range Rover  2011  123648  Foreign Used   14015000   \n",
       "320  Land Rover  Land Range Rover  2018   18181  Locally used   65605000   \n",
       "496  Land Rover  Land Range Rover  2018   44547  Foreign Used   64515000   \n",
       "655  Land Rover  Land Range Rover  2014   72556  Locally used   23015000   \n",
       "\n",
       "        Engine Type Engine Capacity Exterior Color Ratings  \n",
       "103  6-Cylinder(V6)    Approx. 1500          White    4.40  \n",
       "106  8-Cylinder(V8)     Approx. N/A          Black    4.30  \n",
       "317  8-Cylinder(V8)    Approx. 1000      Dark Blue    4.40  \n",
       "320  8-Cylinder(V8)       Approx. 5          Black    3.50  \n",
       "496  6-Cylinder(V6)       Approx. 6          Black    4.50  \n",
       "655  6-Cylinder(I6)    Approx. 6000          Black    0.00  "
      ]
     },
     "execution_count": 12,
     "metadata": {},
     "output_type": "execute_result"
    }
   ],
   "source": [
    "autochek_df[autochek_df['Brand']=='Land Rover']"
   ]
  },
  {
   "cell_type": "markdown",
   "id": "ab1a5279",
   "metadata": {},
   "source": [
    "### Cleaning the model column\n",
    "By examining the **Model** column, we can see the name of the brand included with the model name, so we proceed to drop that from the column."
   ]
  },
  {
   "cell_type": "code",
   "execution_count": 13,
   "id": "2f1d3a91",
   "metadata": {},
   "outputs": [
    {
     "data": {
      "text/plain": [
       "0                                   Corolla\n",
       "1                                   GLK 350\n",
       "2                                Highlander\n",
       "3                                    Sienna\n",
       "4                            Grand Santa Fe\n",
       "                       ...                 \n",
       "691                                   Camry\n",
       "692                                 Corolla\n",
       "693                                  IS 350\n",
       "694                                  RX 350\n",
       "695    Gratour PX Van - 1.2L Petrol, 750kgs\n",
       "Name: Model, Length: 696, dtype: object"
      ]
     },
     "execution_count": 13,
     "metadata": {},
     "output_type": "execute_result"
    }
   ],
   "source": [
    "# removing the Brand name from the model\n",
    "autochek_df['Model'] = autochek_df['Model'].apply(lambda x:\" \".join(x.split()[1:]))\n",
    "autochek_df['Model']"
   ]
  },
  {
   "cell_type": "code",
   "execution_count": 14,
   "id": "847e36e5",
   "metadata": {},
   "outputs": [
    {
     "data": {
      "text/plain": [
       "0      4\n",
       "1      6\n",
       "2      6\n",
       "3      6\n",
       "4      6\n",
       "      ..\n",
       "691    4\n",
       "692    4\n",
       "693    6\n",
       "694    6\n",
       "695    4\n",
       "Name: Engine Type, Length: 696, dtype: object"
      ]
     },
     "execution_count": 14,
     "metadata": {},
     "output_type": "execute_result"
    }
   ],
   "source": [
    "## No changes is needed here since the column is a categorical variable\n",
    "autochek_df['Engine Type']= autochek_df['Engine Type'].apply(lambda x:x[0])\n",
    "autochek_df['Engine Type']"
   ]
  },
  {
   "cell_type": "code",
   "execution_count": 15,
   "id": "7c31adac",
   "metadata": {},
   "outputs": [
    {
     "data": {
      "text/plain": [
       "Approx. N/A     286\n",
       "Approx. 1000     87\n",
       "Approx. 2500     46\n",
       "Approx. 3500     39\n",
       "Approx. 2        27\n",
       "Approx. 3        25\n",
       "Approx. 1500     21\n",
       "Approx. 4        19\n",
       "Approx. 6        18\n",
       "Approx. 2000     18\n",
       "Name: Engine Capacity, dtype: int64"
      ]
     },
     "execution_count": 15,
     "metadata": {},
     "output_type": "execute_result"
    }
   ],
   "source": [
    "autochek_df['Engine Capacity'].value_counts().head(10)"
   ]
  },
  {
   "cell_type": "markdown",
   "id": "8f824790",
   "metadata": {},
   "source": [
    "### Cleaning and Preparing the Engine Capacity column\n",
    "The **Engine Capacity** column has a few issues that need to be addressed, such as the fact that each value is preceded by the string '**Approx.**' and null values are also encoded as 'N/A'.We proceeded to remove the '**Approx.**' keyword before every value, replacing the null values encoded as 'N/A' with an actual null value.  \n",
    "We also see values such as 1,150,000,  which we will edit since we assume the sellers are using different units to represent the engine capacity since most car engines are in the range of a couple thousands in milliliters."
   ]
  },
  {
   "cell_type": "code",
   "execution_count": 16,
   "id": "af62cb34",
   "metadata": {},
   "outputs": [
    {
     "data": {
      "text/plain": [
       "N/A     286\n",
       "1000     87\n",
       "2500     46\n",
       "3500     39\n",
       "2        27\n",
       "3        25\n",
       "1500     21\n",
       "4        19\n",
       "6        18\n",
       "2000     18\n",
       "Name: Engine Capacity, dtype: int64"
      ]
     },
     "execution_count": 16,
     "metadata": {},
     "output_type": "execute_result"
    }
   ],
   "source": [
    "## checking the engine capacity column\n",
    "autochek_df['Engine Capacity'] = autochek_df['Engine Capacity'].str.replace(\"Approx. \",'',regex=True)\n",
    "autochek_df['Engine Capacity'].value_counts().head(10)"
   ]
  },
  {
   "cell_type": "code",
   "execution_count": 17,
   "id": "b2465af0",
   "metadata": {},
   "outputs": [],
   "source": [
    "# most cars has an engine capacity between 1000 - 6000 ml so we can convert every values to be in this range\n",
    "def normalize(x):\n",
    "    if x == 'N/A' or x== np.nan:return np.nan\n",
    "    x = int(x)\n",
    "    op = math.floor(1000/x)\n",
    "    if op>100 and op<= 1000:\n",
    "        return x * 1000\n",
    "    elif op>9 and op <=100:\n",
    "        return x * 100\n",
    "    elif op>1 and op <=9:\n",
    "        return x * 10\n",
    "    elif x//1000>=10 and x//1000 < 100:\n",
    "        return x/10\n",
    "    elif x//1000>=100 and x//1000 < 1000:\n",
    "        return x/100\n",
    "    elif x//1000>=1000 and x//1000 < 10000:\n",
    "        return x/1000\n",
    "    else: return x\n",
    "autochek_df['Engine Capacity']= autochek_df['Engine Capacity'].apply(normalize)"
   ]
  },
  {
   "cell_type": "code",
   "execution_count": 18,
   "id": "4266706d",
   "metadata": {},
   "outputs": [
    {
     "data": {
      "text/plain": [
       "max    6000.0\n",
       "min    1000.0\n",
       "Name: Engine Capacity, dtype: float64"
      ]
     },
     "execution_count": 18,
     "metadata": {},
     "output_type": "execute_result"
    }
   ],
   "source": [
    "## our column has been completely edited to this range\n",
    "autochek_df['Engine Capacity'].describe()[['max','min']]"
   ]
  },
  {
   "cell_type": "markdown",
   "id": "284cd9fa",
   "metadata": {},
   "source": [
    "## Cleaning the Exterior Color column"
   ]
  },
  {
   "cell_type": "code",
   "execution_count": 19,
   "id": "b64c12ed",
   "metadata": {},
   "outputs": [
    {
     "data": {
      "text/plain": [
       "White                            132\n",
       "Black                            132\n",
       "Silver                            89\n",
       "Grey                              58\n",
       "Red                               51\n",
       "Blue                              51\n",
       "Gold                              38\n",
       "Dark Grey                         28\n",
       "Dark Gray                         11\n",
       "Gray                              11\n",
       "Brown                             11\n",
       "Ash                                8\n",
       "Dark Blue                          8\n",
       "Green                              6\n",
       "Beige                              6\n",
       "Dark Green                         5\n",
       "Sliver                             5\n",
       "Wine                               5\n",
       "Maroon                             4\n",
       "Yellow                             4\n",
       "Dark Red                           3\n",
       "Dark Silver                        3\n",
       "Amy Green                          2\n",
       "Cream                              2\n",
       "Purple                             2\n",
       "Light Blue                         2\n",
       "Off White                          2\n",
       "Red Wine                           2\n",
       "Black And Orange                   2\n",
       "Blue Metallic                      1\n",
       "Citrine Brown Metallic Finish      1\n",
       "Pearl White                        1\n",
       "Metallic Silver                    1\n",
       "Orange                             1\n",
       "Blue Light                         1\n",
       "Blue Navy                          1\n",
       "Eiger Grey                         1\n",
       "Golden Yellow                      1\n",
       "Off-White                          1\n",
       "Blanc                              1\n",
       "White And Orange                   1\n",
       "Light Grey                         1\n",
       "Name: Exterior Color, dtype: int64"
      ]
     },
     "execution_count": 19,
     "metadata": {},
     "output_type": "execute_result"
    }
   ],
   "source": [
    "# multiple value of the same color seems to exists\n",
    "autochek_df['Exterior Color'].value_counts()"
   ]
  },
  {
   "cell_type": "code",
   "execution_count": 20,
   "id": "2d88fbde",
   "metadata": {},
   "outputs": [],
   "source": [
    "def rename_color(color):\n",
    "    color = color.lower()\n",
    "    if 'grey' in color  or\"gray\" in color :return \"Grey\"\n",
    "    if \"blue\" in color: return 'Blue'\n",
    "    if \"green\" in color: return \"Green\"\n",
    "    if \"red\" in color :return \"Red\"\n",
    "    if \"silver\" in color: return \"Silver\"\n",
    "    if \"white\"  in color :return \"White\"\n",
    "    return color\n",
    "autochek_df['Color']= autochek_df['Exterior Color'].apply(rename_color)\n",
    "autochek_df = autochek_df.drop(\"Exterior Color\",axis=1)"
   ]
  },
  {
   "cell_type": "code",
   "execution_count": 21,
   "id": "04f9fd98",
   "metadata": {},
   "outputs": [
    {
     "data": {
      "text/plain": [
       "White                            137\n",
       "black                            132\n",
       "Grey                             110\n",
       "Silver                            93\n",
       "Blue                              64\n",
       "Red                               56\n",
       "gold                              38\n",
       "Green                             13\n",
       "brown                             11\n",
       "ash                                8\n",
       "beige                              6\n",
       "sliver                             5\n",
       "wine                               5\n",
       "yellow                             4\n",
       "maroon                             4\n",
       "black and orange                   2\n",
       "purple                             2\n",
       "cream                              2\n",
       "blanc                              1\n",
       "citrine brown metallic finish      1\n",
       "orange                             1\n",
       "golden yellow                      1\n",
       "Name: Color, dtype: int64"
      ]
     },
     "execution_count": 21,
     "metadata": {},
     "output_type": "execute_result"
    }
   ],
   "source": [
    "autochek_df['Color'].value_counts()"
   ]
  },
  {
   "cell_type": "code",
   "execution_count": 22,
   "id": "4eb7085d",
   "metadata": {},
   "outputs": [
    {
     "data": {
      "text/plain": [
       "min    2002.0\n",
       "max    2500.0\n",
       "Name: Year, dtype: float64"
      ]
     },
     "execution_count": 22,
     "metadata": {},
     "output_type": "execute_result"
    }
   ],
   "source": [
    "# year 2500 exists in the dataset which is surely an error; since this is only one value we drop it\n",
    "autochek_df['Year'].describe()[['min','max']]"
   ]
  },
  {
   "cell_type": "code",
   "execution_count": 23,
   "id": "f66ec955",
   "metadata": {},
   "outputs": [
    {
     "data": {
      "text/plain": [
       "min    2002.0\n",
       "max    2022.0\n",
       "Name: Year, dtype: float64"
      ]
     },
     "execution_count": 23,
     "metadata": {},
     "output_type": "execute_result"
    }
   ],
   "source": [
    "autochek_df= autochek_df[autochek_df['Year']!=2500]\n",
    "autochek_df['Year'].describe()[['min','max']]"
   ]
  },
  {
   "cell_type": "code",
   "execution_count": 24,
   "id": "6c74bfd7",
   "metadata": {},
   "outputs": [
    {
     "data": {
      "text/plain": [
       "Foreign Used    481\n",
       "New             156\n",
       "Locally used     58\n",
       "Name: Condition, dtype: int64"
      ]
     },
     "execution_count": 24,
     "metadata": {},
     "output_type": "execute_result"
    }
   ],
   "source": [
    "autochek_df['Condition'].value_counts()"
   ]
  },
  {
   "cell_type": "code",
   "execution_count": 25,
   "id": "2dcceb40",
   "metadata": {},
   "outputs": [],
   "source": [
    "# remapping the column value \n",
    "autochek_df['Condition']=autochek_df['Condition'].map(\n",
    "    {'Foreign Used':\"Foreign Used\",'Locally used':\"Locally Used\",\"New\":\"Brand New\"})"
   ]
  },
  {
   "cell_type": "code",
   "execution_count": 26,
   "id": "e9156568",
   "metadata": {},
   "outputs": [
    {
     "data": {
      "text/plain": [
       "Foreign Used    481\n",
       "Brand New       156\n",
       "Locally Used     58\n",
       "Name: Condition, dtype: int64"
      ]
     },
     "execution_count": 26,
     "metadata": {},
     "output_type": "execute_result"
    }
   ],
   "source": [
    "autochek_df['Condition'].value_counts()"
   ]
  },
  {
   "cell_type": "code",
   "execution_count": 27,
   "id": "1583cc80",
   "metadata": {},
   "outputs": [
    {
     "data": {
      "text/html": [
       "<div>\n",
       "<style scoped>\n",
       "    .dataframe tbody tr th:only-of-type {\n",
       "        vertical-align: middle;\n",
       "    }\n",
       "\n",
       "    .dataframe tbody tr th {\n",
       "        vertical-align: top;\n",
       "    }\n",
       "\n",
       "    .dataframe thead th {\n",
       "        text-align: right;\n",
       "    }\n",
       "</style>\n",
       "<table border=\"1\" class=\"dataframe\">\n",
       "  <thead>\n",
       "    <tr style=\"text-align: right;\">\n",
       "      <th></th>\n",
       "      <th>Brand</th>\n",
       "      <th>Model</th>\n",
       "      <th>Year</th>\n",
       "      <th>Mileage</th>\n",
       "      <th>Condition</th>\n",
       "      <th>Price</th>\n",
       "      <th>Engine Type</th>\n",
       "      <th>Engine Capacity</th>\n",
       "      <th>Ratings</th>\n",
       "      <th>Color</th>\n",
       "    </tr>\n",
       "  </thead>\n",
       "  <tbody>\n",
       "    <tr>\n",
       "      <th>0</th>\n",
       "      <td>Toyota</td>\n",
       "      <td>Corolla</td>\n",
       "      <td>2015</td>\n",
       "      <td>186024</td>\n",
       "      <td>Foreign Used</td>\n",
       "      <td>7530000</td>\n",
       "      <td>4</td>\n",
       "      <td>1000.0</td>\n",
       "      <td>4.20</td>\n",
       "      <td>Grey</td>\n",
       "    </tr>\n",
       "    <tr>\n",
       "      <th>1</th>\n",
       "      <td>Mercedes-Benz</td>\n",
       "      <td>GLK 350</td>\n",
       "      <td>2015</td>\n",
       "      <td>87465</td>\n",
       "      <td>Foreign Used</td>\n",
       "      <td>13530000</td>\n",
       "      <td>6</td>\n",
       "      <td>3000.0</td>\n",
       "      <td>4.50</td>\n",
       "      <td>black</td>\n",
       "    </tr>\n",
       "    <tr>\n",
       "      <th>2</th>\n",
       "      <td>Toyota</td>\n",
       "      <td>Highlander</td>\n",
       "      <td>2008</td>\n",
       "      <td>142719</td>\n",
       "      <td>Foreign Used</td>\n",
       "      <td>7230000</td>\n",
       "      <td>6</td>\n",
       "      <td>3500.0</td>\n",
       "      <td>4.40</td>\n",
       "      <td>Red</td>\n",
       "    </tr>\n",
       "    <tr>\n",
       "      <th>3</th>\n",
       "      <td>Toyota</td>\n",
       "      <td>Sienna</td>\n",
       "      <td>2006</td>\n",
       "      <td>115232</td>\n",
       "      <td>Foreign Used</td>\n",
       "      <td>4880000</td>\n",
       "      <td>6</td>\n",
       "      <td>3000.0</td>\n",
       "      <td>4.50</td>\n",
       "      <td>gold</td>\n",
       "    </tr>\n",
       "    <tr>\n",
       "      <th>4</th>\n",
       "      <td>Hyundai</td>\n",
       "      <td>Grand Santa Fe</td>\n",
       "      <td>2013</td>\n",
       "      <td>110903</td>\n",
       "      <td>Foreign Used</td>\n",
       "      <td>9015000</td>\n",
       "      <td>6</td>\n",
       "      <td>3300.0</td>\n",
       "      <td>4.00</td>\n",
       "      <td>Silver</td>\n",
       "    </tr>\n",
       "  </tbody>\n",
       "</table>\n",
       "</div>"
      ],
      "text/plain": [
       "           Brand           Model  Year Mileage     Condition      Price  \\\n",
       "0         Toyota         Corolla  2015  186024  Foreign Used    7530000   \n",
       "1  Mercedes-Benz         GLK 350  2015   87465  Foreign Used   13530000   \n",
       "2         Toyota      Highlander  2008  142719  Foreign Used    7230000   \n",
       "3         Toyota          Sienna  2006  115232  Foreign Used    4880000   \n",
       "4        Hyundai  Grand Santa Fe  2013  110903  Foreign Used    9015000   \n",
       "\n",
       "  Engine Type  Engine Capacity Ratings   Color  \n",
       "0           4           1000.0    4.20    Grey  \n",
       "1           6           3000.0    4.50   black  \n",
       "2           6           3500.0    4.40     Red  \n",
       "3           6           3000.0    4.50    gold  \n",
       "4           6           3300.0    4.00  Silver  "
      ]
     },
     "execution_count": 27,
     "metadata": {},
     "output_type": "execute_result"
    }
   ],
   "source": [
    "autochek_df.head()"
   ]
  },
  {
   "cell_type": "markdown",
   "id": "1abc8c2a",
   "metadata": {},
   "source": [
    "## Cars 45 dataset\n",
    "Having clean the first dataset, we proceed to clean the second dataset and rename the columns to be in agreements"
   ]
  },
  {
   "cell_type": "code",
   "execution_count": 28,
   "id": "6a02b5a2",
   "metadata": {},
   "outputs": [
    {
     "data": {
      "text/html": [
       "<div>\n",
       "<style scoped>\n",
       "    .dataframe tbody tr th:only-of-type {\n",
       "        vertical-align: middle;\n",
       "    }\n",
       "\n",
       "    .dataframe tbody tr th {\n",
       "        vertical-align: top;\n",
       "    }\n",
       "\n",
       "    .dataframe thead th {\n",
       "        text-align: right;\n",
       "    }\n",
       "</style>\n",
       "<table border=\"1\" class=\"dataframe\">\n",
       "  <thead>\n",
       "    <tr style=\"text-align: right;\">\n",
       "      <th></th>\n",
       "      <th>brand</th>\n",
       "      <th>model</th>\n",
       "      <th>mileage</th>\n",
       "      <th>condition</th>\n",
       "      <th>year</th>\n",
       "      <th>color</th>\n",
       "      <th>engine_size</th>\n",
       "      <th>cylinder</th>\n",
       "      <th>price</th>\n",
       "    </tr>\n",
       "  </thead>\n",
       "  <tbody>\n",
       "    <tr>\n",
       "      <th>0</th>\n",
       "      <td>Lexus</td>\n",
       "      <td>RX 330</td>\n",
       "      <td>213521</td>\n",
       "      <td>Nigerian Used</td>\n",
       "      <td>2004</td>\n",
       "      <td>Silver</td>\n",
       "      <td>3500</td>\n",
       "      <td>NaN</td>\n",
       "      <td>₦ 2,730,000</td>\n",
       "    </tr>\n",
       "    <tr>\n",
       "      <th>1</th>\n",
       "      <td>Toyota</td>\n",
       "      <td>Highlander</td>\n",
       "      <td>235145</td>\n",
       "      <td>Nigerian Used</td>\n",
       "      <td>2005</td>\n",
       "      <td>Silver</td>\n",
       "      <td>3500</td>\n",
       "      <td>NaN</td>\n",
       "      <td>₦ 1,890,000</td>\n",
       "    </tr>\n",
       "    <tr>\n",
       "      <th>2</th>\n",
       "      <td>Toyota</td>\n",
       "      <td>Corolla</td>\n",
       "      <td>405472</td>\n",
       "      <td>Nigerian Used</td>\n",
       "      <td>2002</td>\n",
       "      <td>Black</td>\n",
       "      <td>1800</td>\n",
       "      <td>NaN</td>\n",
       "      <td>₦ 1,050,000</td>\n",
       "    </tr>\n",
       "    <tr>\n",
       "      <th>3</th>\n",
       "      <td>Ford</td>\n",
       "      <td>Edge</td>\n",
       "      <td>290102</td>\n",
       "      <td>Nigerian Used</td>\n",
       "      <td>2008</td>\n",
       "      <td>Gray</td>\n",
       "      <td>3500</td>\n",
       "      <td>NaN</td>\n",
       "      <td>₦ 1,275,000</td>\n",
       "    </tr>\n",
       "    <tr>\n",
       "      <th>4</th>\n",
       "      <td>Ford</td>\n",
       "      <td>Edge</td>\n",
       "      <td>76565</td>\n",
       "      <td>Nigerian Used</td>\n",
       "      <td>2014</td>\n",
       "      <td>Black</td>\n",
       "      <td>3500</td>\n",
       "      <td>NaN</td>\n",
       "      <td>₦ 3,675,000</td>\n",
       "    </tr>\n",
       "  </tbody>\n",
       "</table>\n",
       "</div>"
      ],
      "text/plain": [
       "    brand       model  mileage      condition  year   color  engine_size  \\\n",
       "0   Lexus      RX 330   213521  Nigerian Used  2004  Silver         3500   \n",
       "1  Toyota  Highlander   235145  Nigerian Used  2005  Silver         3500   \n",
       "2  Toyota     Corolla   405472  Nigerian Used  2002   Black         1800   \n",
       "3    Ford        Edge   290102  Nigerian Used  2008    Gray         3500   \n",
       "4    Ford        Edge    76565  Nigerian Used  2014   Black         3500   \n",
       "\n",
       "   cylinder        price  \n",
       "0       NaN  ₦ 2,730,000  \n",
       "1       NaN  ₦ 1,890,000  \n",
       "2       NaN  ₦ 1,050,000  \n",
       "3       NaN  ₦ 1,275,000  \n",
       "4       NaN  ₦ 3,675,000  "
      ]
     },
     "execution_count": 28,
     "metadata": {},
     "output_type": "execute_result"
    }
   ],
   "source": [
    "cars45_df.head()"
   ]
  },
  {
   "cell_type": "code",
   "execution_count": 29,
   "id": "8c1f3fd7",
   "metadata": {},
   "outputs": [
    {
     "data": {
      "text/plain": [
       "min    1992.0\n",
       "max    2020.0\n",
       "Name: year, dtype: float64"
      ]
     },
     "execution_count": 29,
     "metadata": {},
     "output_type": "execute_result"
    }
   ],
   "source": [
    "# there is no problem with the year column\n",
    "cars45_df['year'].describe()[['min','max']]"
   ]
  },
  {
   "cell_type": "code",
   "execution_count": 30,
   "id": "77b4cf3a",
   "metadata": {},
   "outputs": [
    {
     "data": {
      "text/plain": [
       "Nigerian Used    1388\n",
       "Foreign Used      441\n",
       "Brand New           1\n",
       "Name: condition, dtype: int64"
      ]
     },
     "execution_count": 30,
     "metadata": {},
     "output_type": "execute_result"
    }
   ],
   "source": [
    "cars45_df['condition'].value_counts()"
   ]
  },
  {
   "cell_type": "code",
   "execution_count": 31,
   "id": "9753a2be",
   "metadata": {},
   "outputs": [],
   "source": [
    "cars45_df['condition']=cars45_df['condition'].map(\n",
    "    {'Foreign Used':\"Foreign Used\",'Nigerian Used':\"Locally Used\",\"Brand New\":\"Brand New\"})"
   ]
  },
  {
   "cell_type": "code",
   "execution_count": 32,
   "id": "ce401113",
   "metadata": {},
   "outputs": [],
   "source": [
    "cars45_df['color']= cars45_df['color'].apply(rename_color)"
   ]
  },
  {
   "cell_type": "code",
   "execution_count": 33,
   "id": "d75c6d8b",
   "metadata": {},
   "outputs": [
    {
     "data": {
      "text/plain": [
       "black         495\n",
       "Silver        330\n",
       "Grey          266\n",
       "Blue          196\n",
       "White         176\n",
       "Red           126\n",
       "gold          112\n",
       "Green          71\n",
       "brown          28\n",
       "burgandy        9\n",
       "purple          8\n",
       "beige           6\n",
       "ivory           3\n",
       "matt black      2\n",
       "orange          1\n",
       "teal            1\n",
       "Name: color, dtype: int64"
      ]
     },
     "execution_count": 33,
     "metadata": {},
     "output_type": "execute_result"
    }
   ],
   "source": [
    "cars45_df['color'].value_counts()"
   ]
  },
  {
   "cell_type": "code",
   "execution_count": 34,
   "id": "7148e6eb",
   "metadata": {},
   "outputs": [
    {
     "data": {
      "text/plain": [
       "min       1100.0\n",
       "max    2400000.0\n",
       "Name: engine_size, dtype: float64"
      ]
     },
     "execution_count": 34,
     "metadata": {},
     "output_type": "execute_result"
    }
   ],
   "source": [
    "cars45_df['engine_size'].describe()[['min','max']]"
   ]
  },
  {
   "cell_type": "code",
   "execution_count": 35,
   "id": "7f376d73",
   "metadata": {},
   "outputs": [],
   "source": [
    "cars45_df['engine_size']=cars45_df['engine_size'].apply(normalize)"
   ]
  },
  {
   "cell_type": "code",
   "execution_count": 36,
   "id": "986b3b2f",
   "metadata": {},
   "outputs": [
    {
     "data": {
      "text/plain": [
       "min    1100.0\n",
       "max    6200.0\n",
       "Name: engine_size, dtype: float64"
      ]
     },
     "execution_count": 36,
     "metadata": {},
     "output_type": "execute_result"
    }
   ],
   "source": [
    "cars45_df['engine_size'].describe()[['min','max']]"
   ]
  },
  {
   "cell_type": "code",
   "execution_count": 37,
   "id": "d3431ae8",
   "metadata": {},
   "outputs": [
    {
     "data": {
      "text/plain": [
       "6.0    139\n",
       "4.0    131\n",
       "8.0     24\n",
       "Name: cylinder, dtype: int64"
      ]
     },
     "execution_count": 37,
     "metadata": {},
     "output_type": "execute_result"
    }
   ],
   "source": [
    "cars45_df['cylinder'].value_counts()"
   ]
  },
  {
   "cell_type": "code",
   "execution_count": 38,
   "id": "b7dd662e",
   "metadata": {},
   "outputs": [],
   "source": [
    "cars45_df['price'] = cars45_df[\"price\"].replace(\"[₦,]\",'',regex=True)"
   ]
  },
  {
   "cell_type": "code",
   "execution_count": 39,
   "id": "52a1acd0",
   "metadata": {},
   "outputs": [
    {
     "data": {
      "text/html": [
       "<div>\n",
       "<style scoped>\n",
       "    .dataframe tbody tr th:only-of-type {\n",
       "        vertical-align: middle;\n",
       "    }\n",
       "\n",
       "    .dataframe tbody tr th {\n",
       "        vertical-align: top;\n",
       "    }\n",
       "\n",
       "    .dataframe thead th {\n",
       "        text-align: right;\n",
       "    }\n",
       "</style>\n",
       "<table border=\"1\" class=\"dataframe\">\n",
       "  <thead>\n",
       "    <tr style=\"text-align: right;\">\n",
       "      <th></th>\n",
       "      <th>brand</th>\n",
       "      <th>model</th>\n",
       "      <th>mileage</th>\n",
       "      <th>condition</th>\n",
       "      <th>year</th>\n",
       "      <th>color</th>\n",
       "      <th>engine_size</th>\n",
       "      <th>cylinder</th>\n",
       "      <th>price</th>\n",
       "    </tr>\n",
       "  </thead>\n",
       "  <tbody>\n",
       "    <tr>\n",
       "      <th>0</th>\n",
       "      <td>Lexus</td>\n",
       "      <td>RX 330</td>\n",
       "      <td>213521</td>\n",
       "      <td>Locally Used</td>\n",
       "      <td>2004</td>\n",
       "      <td>Silver</td>\n",
       "      <td>3500.0</td>\n",
       "      <td>NaN</td>\n",
       "      <td>2730000</td>\n",
       "    </tr>\n",
       "    <tr>\n",
       "      <th>1</th>\n",
       "      <td>Toyota</td>\n",
       "      <td>Highlander</td>\n",
       "      <td>235145</td>\n",
       "      <td>Locally Used</td>\n",
       "      <td>2005</td>\n",
       "      <td>Silver</td>\n",
       "      <td>3500.0</td>\n",
       "      <td>NaN</td>\n",
       "      <td>1890000</td>\n",
       "    </tr>\n",
       "    <tr>\n",
       "      <th>2</th>\n",
       "      <td>Toyota</td>\n",
       "      <td>Corolla</td>\n",
       "      <td>405472</td>\n",
       "      <td>Locally Used</td>\n",
       "      <td>2002</td>\n",
       "      <td>black</td>\n",
       "      <td>1800.0</td>\n",
       "      <td>NaN</td>\n",
       "      <td>1050000</td>\n",
       "    </tr>\n",
       "    <tr>\n",
       "      <th>3</th>\n",
       "      <td>Ford</td>\n",
       "      <td>Edge</td>\n",
       "      <td>290102</td>\n",
       "      <td>Locally Used</td>\n",
       "      <td>2008</td>\n",
       "      <td>Grey</td>\n",
       "      <td>3500.0</td>\n",
       "      <td>NaN</td>\n",
       "      <td>1275000</td>\n",
       "    </tr>\n",
       "    <tr>\n",
       "      <th>4</th>\n",
       "      <td>Ford</td>\n",
       "      <td>Edge</td>\n",
       "      <td>76565</td>\n",
       "      <td>Locally Used</td>\n",
       "      <td>2014</td>\n",
       "      <td>black</td>\n",
       "      <td>3500.0</td>\n",
       "      <td>NaN</td>\n",
       "      <td>3675000</td>\n",
       "    </tr>\n",
       "  </tbody>\n",
       "</table>\n",
       "</div>"
      ],
      "text/plain": [
       "    brand       model  mileage     condition  year   color  engine_size  \\\n",
       "0   Lexus      RX 330   213521  Locally Used  2004  Silver       3500.0   \n",
       "1  Toyota  Highlander   235145  Locally Used  2005  Silver       3500.0   \n",
       "2  Toyota     Corolla   405472  Locally Used  2002   black       1800.0   \n",
       "3    Ford        Edge   290102  Locally Used  2008    Grey       3500.0   \n",
       "4    Ford        Edge    76565  Locally Used  2014   black       3500.0   \n",
       "\n",
       "   cylinder     price  \n",
       "0       NaN   2730000  \n",
       "1       NaN   1890000  \n",
       "2       NaN   1050000  \n",
       "3       NaN   1275000  \n",
       "4       NaN   3675000  "
      ]
     },
     "execution_count": 39,
     "metadata": {},
     "output_type": "execute_result"
    }
   ],
   "source": [
    "cars45_df.head()"
   ]
  },
  {
   "cell_type": "code",
   "execution_count": 40,
   "id": "7605b0dc",
   "metadata": {},
   "outputs": [
    {
     "data": {
      "text/html": [
       "<div>\n",
       "<style scoped>\n",
       "    .dataframe tbody tr th:only-of-type {\n",
       "        vertical-align: middle;\n",
       "    }\n",
       "\n",
       "    .dataframe tbody tr th {\n",
       "        vertical-align: top;\n",
       "    }\n",
       "\n",
       "    .dataframe thead th {\n",
       "        text-align: right;\n",
       "    }\n",
       "</style>\n",
       "<table border=\"1\" class=\"dataframe\">\n",
       "  <thead>\n",
       "    <tr style=\"text-align: right;\">\n",
       "      <th></th>\n",
       "      <th>Brand</th>\n",
       "      <th>Model</th>\n",
       "      <th>Year</th>\n",
       "      <th>Mileage</th>\n",
       "      <th>Condition</th>\n",
       "      <th>Price</th>\n",
       "      <th>Engine Type</th>\n",
       "      <th>Engine Capacity</th>\n",
       "      <th>Ratings</th>\n",
       "      <th>Color</th>\n",
       "    </tr>\n",
       "  </thead>\n",
       "  <tbody>\n",
       "    <tr>\n",
       "      <th>0</th>\n",
       "      <td>Toyota</td>\n",
       "      <td>Corolla</td>\n",
       "      <td>2015</td>\n",
       "      <td>186024</td>\n",
       "      <td>Foreign Used</td>\n",
       "      <td>7530000</td>\n",
       "      <td>4</td>\n",
       "      <td>1000.0</td>\n",
       "      <td>4.20</td>\n",
       "      <td>Grey</td>\n",
       "    </tr>\n",
       "    <tr>\n",
       "      <th>1</th>\n",
       "      <td>Mercedes-Benz</td>\n",
       "      <td>GLK 350</td>\n",
       "      <td>2015</td>\n",
       "      <td>87465</td>\n",
       "      <td>Foreign Used</td>\n",
       "      <td>13530000</td>\n",
       "      <td>6</td>\n",
       "      <td>3000.0</td>\n",
       "      <td>4.50</td>\n",
       "      <td>black</td>\n",
       "    </tr>\n",
       "    <tr>\n",
       "      <th>2</th>\n",
       "      <td>Toyota</td>\n",
       "      <td>Highlander</td>\n",
       "      <td>2008</td>\n",
       "      <td>142719</td>\n",
       "      <td>Foreign Used</td>\n",
       "      <td>7230000</td>\n",
       "      <td>6</td>\n",
       "      <td>3500.0</td>\n",
       "      <td>4.40</td>\n",
       "      <td>Red</td>\n",
       "    </tr>\n",
       "    <tr>\n",
       "      <th>3</th>\n",
       "      <td>Toyota</td>\n",
       "      <td>Sienna</td>\n",
       "      <td>2006</td>\n",
       "      <td>115232</td>\n",
       "      <td>Foreign Used</td>\n",
       "      <td>4880000</td>\n",
       "      <td>6</td>\n",
       "      <td>3000.0</td>\n",
       "      <td>4.50</td>\n",
       "      <td>gold</td>\n",
       "    </tr>\n",
       "    <tr>\n",
       "      <th>4</th>\n",
       "      <td>Hyundai</td>\n",
       "      <td>Grand Santa Fe</td>\n",
       "      <td>2013</td>\n",
       "      <td>110903</td>\n",
       "      <td>Foreign Used</td>\n",
       "      <td>9015000</td>\n",
       "      <td>6</td>\n",
       "      <td>3300.0</td>\n",
       "      <td>4.00</td>\n",
       "      <td>Silver</td>\n",
       "    </tr>\n",
       "  </tbody>\n",
       "</table>\n",
       "</div>"
      ],
      "text/plain": [
       "           Brand           Model  Year Mileage     Condition      Price  \\\n",
       "0         Toyota         Corolla  2015  186024  Foreign Used    7530000   \n",
       "1  Mercedes-Benz         GLK 350  2015   87465  Foreign Used   13530000   \n",
       "2         Toyota      Highlander  2008  142719  Foreign Used    7230000   \n",
       "3         Toyota          Sienna  2006  115232  Foreign Used    4880000   \n",
       "4        Hyundai  Grand Santa Fe  2013  110903  Foreign Used    9015000   \n",
       "\n",
       "  Engine Type  Engine Capacity Ratings   Color  \n",
       "0           4           1000.0    4.20    Grey  \n",
       "1           6           3000.0    4.50   black  \n",
       "2           6           3500.0    4.40     Red  \n",
       "3           6           3000.0    4.50    gold  \n",
       "4           6           3300.0    4.00  Silver  "
      ]
     },
     "execution_count": 40,
     "metadata": {},
     "output_type": "execute_result"
    }
   ],
   "source": [
    "autochek_df.head()"
   ]
  },
  {
   "cell_type": "markdown",
   "id": "a8523444",
   "metadata": {},
   "source": [
    "renaming the columns of both dataset to be aligned"
   ]
  },
  {
   "cell_type": "code",
   "execution_count": 41,
   "id": "b3cc4cb3",
   "metadata": {},
   "outputs": [],
   "source": [
    "cars45_df = cars45_df.rename(columns={'brand':\"Brand\",\"model\":\"Model\",'mileage':\"Mileage\",'year':\"Year\",'color':\"Color\",\n",
    "                         \"engine_size\":\"Engine Capacity\",'condition':\"Condition\",\"price\":\"Price\",'cylinder':\"Number of Cylinders\"})\n",
    "autochek_df = autochek_df.rename(columns={\"Engine Type\":\"Number of Cylinders\"});"
   ]
  },
  {
   "cell_type": "markdown",
   "id": "6aaceb4d",
   "metadata": {},
   "source": [
    "## Combining the two datasets\n",
    "After cleaning and preparing the two datasets, we proceed to combine the two datasets together and export the data."
   ]
  },
  {
   "cell_type": "code",
   "execution_count": 42,
   "id": "54cf2bf3",
   "metadata": {},
   "outputs": [],
   "source": [
    "## combining both dataset into one\n",
    "df = pd.concat([autochek_df,cars45_df])"
   ]
  },
  {
   "cell_type": "code",
   "execution_count": 43,
   "id": "05caf805",
   "metadata": {},
   "outputs": [
    {
     "data": {
      "text/plain": [
       "2205"
      ]
     },
     "execution_count": 43,
     "metadata": {},
     "output_type": "execute_result"
    }
   ],
   "source": [
    "# remove all records with models that occurs only once in the dataset\n",
    "df = df[df.groupby('Model')['Model'].transform(len) > 2]\n",
    "len(df)"
   ]
  },
  {
   "cell_type": "code",
   "execution_count": 44,
   "id": "72524e41",
   "metadata": {},
   "outputs": [
    {
     "data": {
      "text/html": [
       "<div>\n",
       "<style scoped>\n",
       "    .dataframe tbody tr th:only-of-type {\n",
       "        vertical-align: middle;\n",
       "    }\n",
       "\n",
       "    .dataframe tbody tr th {\n",
       "        vertical-align: top;\n",
       "    }\n",
       "\n",
       "    .dataframe thead th {\n",
       "        text-align: right;\n",
       "    }\n",
       "</style>\n",
       "<table border=\"1\" class=\"dataframe\">\n",
       "  <thead>\n",
       "    <tr style=\"text-align: right;\">\n",
       "      <th></th>\n",
       "      <th>Brand</th>\n",
       "      <th>Model</th>\n",
       "      <th>Year</th>\n",
       "      <th>Mileage</th>\n",
       "      <th>Condition</th>\n",
       "      <th>Price</th>\n",
       "      <th>Number of Cylinders</th>\n",
       "      <th>Engine Capacity</th>\n",
       "      <th>Ratings</th>\n",
       "      <th>Color</th>\n",
       "    </tr>\n",
       "  </thead>\n",
       "  <tbody>\n",
       "    <tr>\n",
       "      <th>0</th>\n",
       "      <td>Toyota</td>\n",
       "      <td>Corolla</td>\n",
       "      <td>2015</td>\n",
       "      <td>186024</td>\n",
       "      <td>Foreign Used</td>\n",
       "      <td>7530000</td>\n",
       "      <td>4</td>\n",
       "      <td>1000.0</td>\n",
       "      <td>4.20</td>\n",
       "      <td>Grey</td>\n",
       "    </tr>\n",
       "    <tr>\n",
       "      <th>1</th>\n",
       "      <td>Mercedes-Benz</td>\n",
       "      <td>GLK 350</td>\n",
       "      <td>2015</td>\n",
       "      <td>87465</td>\n",
       "      <td>Foreign Used</td>\n",
       "      <td>13530000</td>\n",
       "      <td>6</td>\n",
       "      <td>3000.0</td>\n",
       "      <td>4.50</td>\n",
       "      <td>black</td>\n",
       "    </tr>\n",
       "    <tr>\n",
       "      <th>2</th>\n",
       "      <td>Toyota</td>\n",
       "      <td>Highlander</td>\n",
       "      <td>2008</td>\n",
       "      <td>142719</td>\n",
       "      <td>Foreign Used</td>\n",
       "      <td>7230000</td>\n",
       "      <td>6</td>\n",
       "      <td>3500.0</td>\n",
       "      <td>4.40</td>\n",
       "      <td>Red</td>\n",
       "    </tr>\n",
       "    <tr>\n",
       "      <th>3</th>\n",
       "      <td>Toyota</td>\n",
       "      <td>Sienna</td>\n",
       "      <td>2006</td>\n",
       "      <td>115232</td>\n",
       "      <td>Foreign Used</td>\n",
       "      <td>4880000</td>\n",
       "      <td>6</td>\n",
       "      <td>3000.0</td>\n",
       "      <td>4.50</td>\n",
       "      <td>gold</td>\n",
       "    </tr>\n",
       "    <tr>\n",
       "      <th>5</th>\n",
       "      <td>Honda</td>\n",
       "      <td>Crosstour</td>\n",
       "      <td>2012</td>\n",
       "      <td>120661</td>\n",
       "      <td>Foreign Used</td>\n",
       "      <td>5030000</td>\n",
       "      <td>6</td>\n",
       "      <td>3000.0</td>\n",
       "      <td>4.50</td>\n",
       "      <td>Silver</td>\n",
       "    </tr>\n",
       "  </tbody>\n",
       "</table>\n",
       "</div>"
      ],
      "text/plain": [
       "           Brand       Model  Year Mileage     Condition      Price  \\\n",
       "0         Toyota     Corolla  2015  186024  Foreign Used    7530000   \n",
       "1  Mercedes-Benz     GLK 350  2015   87465  Foreign Used   13530000   \n",
       "2         Toyota  Highlander  2008  142719  Foreign Used    7230000   \n",
       "3         Toyota      Sienna  2006  115232  Foreign Used    4880000   \n",
       "5          Honda   Crosstour  2012  120661  Foreign Used    5030000   \n",
       "\n",
       "  Number of Cylinders  Engine Capacity Ratings   Color  \n",
       "0                   4           1000.0    4.20    Grey  \n",
       "1                   6           3000.0    4.50   black  \n",
       "2                   6           3500.0    4.40     Red  \n",
       "3                   6           3000.0    4.50    gold  \n",
       "5                   6           3000.0    4.50  Silver  "
      ]
     },
     "execution_count": 44,
     "metadata": {},
     "output_type": "execute_result"
    }
   ],
   "source": [
    "df.head()"
   ]
  },
  {
   "cell_type": "code",
   "execution_count": 45,
   "id": "29bf51dd",
   "metadata": {},
   "outputs": [],
   "source": [
    "df.to_csv(\"data/cars_cleaned.csv\",index=False)"
   ]
  },
  {
   "cell_type": "markdown",
   "id": "6654511b",
   "metadata": {},
   "source": [
    " This is the end of our data cleaning and preparation"
   ]
  }
 ],
 "metadata": {
  "kernelspec": {
   "display_name": "Python 3 (ipykernel)",
   "language": "python",
   "name": "python3"
  },
  "language_info": {
   "codemirror_mode": {
    "name": "ipython",
    "version": 3
   },
   "file_extension": ".py",
   "mimetype": "text/x-python",
   "name": "python",
   "nbconvert_exporter": "python",
   "pygments_lexer": "ipython3",
   "version": "3.9.7"
  }
 },
 "nbformat": 4,
 "nbformat_minor": 5
}
