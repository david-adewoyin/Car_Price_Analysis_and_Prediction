{
 "cells": [
  {
   "cell_type": "markdown",
   "id": "dcd28b73",
   "metadata": {},
   "source": [
    "## Car Price Prediction [ EDA and model building]\n",
    "**Exploratory Data Analysis [EDA]** is a fundamental step in any data science project in which we explore our dataset using various statistical and visual means in order to gather insights that will aid in our data's understanding and  improve our ability to make effective business decisions.  \n",
    "Continuing from the data cleaning stage, we will advance into exploratory analysis in order to better understand our data, and we will finally build several **machine learning models** for predicting car prices."
   ]
  },
  {
   "cell_type": "code",
   "execution_count": 1,
   "id": "557ab2bc",
   "metadata": {},
   "outputs": [],
   "source": [
    "# importing required packages\n",
    "import math\n",
    "import numpy as np\n",
    "import pandas as pd\n",
    "import seaborn as sns\n",
    "import matplotlib.pyplot as plt\n",
    "\n",
    "sns.set_theme(style='white')"
   ]
  },
  {
   "cell_type": "code",
   "execution_count": 2,
   "id": "e96bd341",
   "metadata": {},
   "outputs": [],
   "source": [
    "df = pd.read_csv(\"data/cars_cleaned.csv\")"
   ]
  },
  {
   "cell_type": "code",
   "execution_count": 3,
   "id": "3528a3ea",
   "metadata": {},
   "outputs": [
    {
     "data": {
      "text/html": [
       "<div>\n",
       "<style scoped>\n",
       "    .dataframe tbody tr th:only-of-type {\n",
       "        vertical-align: middle;\n",
       "    }\n",
       "\n",
       "    .dataframe tbody tr th {\n",
       "        vertical-align: top;\n",
       "    }\n",
       "\n",
       "    .dataframe thead th {\n",
       "        text-align: right;\n",
       "    }\n",
       "</style>\n",
       "<table border=\"1\" class=\"dataframe\">\n",
       "  <thead>\n",
       "    <tr style=\"text-align: right;\">\n",
       "      <th></th>\n",
       "      <th>Brand</th>\n",
       "      <th>Model</th>\n",
       "      <th>Year</th>\n",
       "      <th>Mileage</th>\n",
       "      <th>Condition</th>\n",
       "      <th>Price</th>\n",
       "      <th>Number of Cylinders</th>\n",
       "      <th>Engine Capacity</th>\n",
       "      <th>Ratings</th>\n",
       "      <th>Color</th>\n",
       "    </tr>\n",
       "  </thead>\n",
       "  <tbody>\n",
       "    <tr>\n",
       "      <th>0</th>\n",
       "      <td>Toyota</td>\n",
       "      <td>Corolla</td>\n",
       "      <td>2015</td>\n",
       "      <td>186024</td>\n",
       "      <td>Foreign Used</td>\n",
       "      <td>7530000</td>\n",
       "      <td>4.0</td>\n",
       "      <td>1000.0</td>\n",
       "      <td>4.2</td>\n",
       "      <td>Grey</td>\n",
       "    </tr>\n",
       "    <tr>\n",
       "      <th>1</th>\n",
       "      <td>Mercedes-Benz</td>\n",
       "      <td>GLK 350</td>\n",
       "      <td>2015</td>\n",
       "      <td>87465</td>\n",
       "      <td>Foreign Used</td>\n",
       "      <td>13530000</td>\n",
       "      <td>6.0</td>\n",
       "      <td>3000.0</td>\n",
       "      <td>4.5</td>\n",
       "      <td>black</td>\n",
       "    </tr>\n",
       "    <tr>\n",
       "      <th>2</th>\n",
       "      <td>Toyota</td>\n",
       "      <td>Highlander</td>\n",
       "      <td>2008</td>\n",
       "      <td>142719</td>\n",
       "      <td>Foreign Used</td>\n",
       "      <td>7230000</td>\n",
       "      <td>6.0</td>\n",
       "      <td>3500.0</td>\n",
       "      <td>4.4</td>\n",
       "      <td>Red</td>\n",
       "    </tr>\n",
       "    <tr>\n",
       "      <th>3</th>\n",
       "      <td>Toyota</td>\n",
       "      <td>Sienna</td>\n",
       "      <td>2006</td>\n",
       "      <td>115232</td>\n",
       "      <td>Foreign Used</td>\n",
       "      <td>4880000</td>\n",
       "      <td>6.0</td>\n",
       "      <td>3000.0</td>\n",
       "      <td>4.5</td>\n",
       "      <td>gold</td>\n",
       "    </tr>\n",
       "    <tr>\n",
       "      <th>4</th>\n",
       "      <td>Honda</td>\n",
       "      <td>Crosstour</td>\n",
       "      <td>2012</td>\n",
       "      <td>120661</td>\n",
       "      <td>Foreign Used</td>\n",
       "      <td>5030000</td>\n",
       "      <td>6.0</td>\n",
       "      <td>3000.0</td>\n",
       "      <td>4.5</td>\n",
       "      <td>Silver</td>\n",
       "    </tr>\n",
       "  </tbody>\n",
       "</table>\n",
       "</div>"
      ],
      "text/plain": [
       "           Brand       Model  Year  Mileage     Condition     Price  \\\n",
       "0         Toyota     Corolla  2015   186024  Foreign Used   7530000   \n",
       "1  Mercedes-Benz     GLK 350  2015    87465  Foreign Used  13530000   \n",
       "2         Toyota  Highlander  2008   142719  Foreign Used   7230000   \n",
       "3         Toyota      Sienna  2006   115232  Foreign Used   4880000   \n",
       "4          Honda   Crosstour  2012   120661  Foreign Used   5030000   \n",
       "\n",
       "   Number of Cylinders  Engine Capacity  Ratings   Color  \n",
       "0                  4.0           1000.0      4.2    Grey  \n",
       "1                  6.0           3000.0      4.5   black  \n",
       "2                  6.0           3500.0      4.4     Red  \n",
       "3                  6.0           3000.0      4.5    gold  \n",
       "4                  6.0           3000.0      4.5  Silver  "
      ]
     },
     "execution_count": 3,
     "metadata": {},
     "output_type": "execute_result"
    }
   ],
   "source": [
    "df.head()"
   ]
  },
  {
   "cell_type": "code",
   "execution_count": 4,
   "id": "b02f7a71",
   "metadata": {},
   "outputs": [
    {
     "data": {
      "text/plain": [
       "Index(['Brand', 'Model', 'Year', 'Mileage', 'Condition', 'Price',\n",
       "       'Number of Cylinders', 'Engine Capacity', 'Ratings', 'Color'],\n",
       "      dtype='object')"
      ]
     },
     "execution_count": 4,
     "metadata": {},
     "output_type": "execute_result"
    }
   ],
   "source": [
    "#columns in the dataset\n",
    "df.columns"
   ]
  },
  {
   "cell_type": "code",
   "execution_count": 5,
   "id": "9ac0d526",
   "metadata": {},
   "outputs": [
    {
     "name": "stdout",
     "output_type": "stream",
     "text": [
      "Number of Car brands 22\n"
     ]
    },
    {
     "data": {
      "text/plain": [
       "Toyota           1193\n",
       "Lexus             256\n",
       "Honda             188\n",
       "Mercedes-Benz     175\n",
       "Hyundai            77\n",
       "Ford               71\n",
       "Kia                45\n",
       "Nissan             42\n",
       "Land Rover         26\n",
       "Acura              25\n",
       "Name: Brand, dtype: int64"
      ]
     },
     "execution_count": 5,
     "metadata": {},
     "output_type": "execute_result"
    }
   ],
   "source": [
    "print(f\"Number of Car brands {len(df['Brand'].value_counts())}\")\n",
    "df[\"Brand\"].value_counts()[:10]"
   ]
  },
  {
   "cell_type": "code",
   "execution_count": 6,
   "id": "0c67c926",
   "metadata": {},
   "outputs": [
    {
     "name": "stdout",
     "output_type": "stream",
     "text": [
      "Number of Car Models 110\n"
     ]
    },
    {
     "data": {
      "text/plain": [
       "Camry         375\n",
       "Corolla       304\n",
       "Highlander    144\n",
       "Sienna         89\n",
       "Accord         84\n",
       "             ... \n",
       "ES 330          3\n",
       "IS 250          3\n",
       "C350            3\n",
       "Liberty         3\n",
       "RX              3\n",
       "Name: Model, Length: 110, dtype: int64"
      ]
     },
     "execution_count": 6,
     "metadata": {},
     "output_type": "execute_result"
    }
   ],
   "source": [
    "print(f\"Number of Car Models {len(df['Model'].value_counts())}\")\n",
    "df[\"Model\"].value_counts()"
   ]
  },
  {
   "cell_type": "markdown",
   "id": "c724fe59",
   "metadata": {},
   "source": [
    "**Top Ten** Most Popular Car Brands Sold "
   ]
  },
  {
   "cell_type": "code",
   "execution_count": 7,
   "id": "d243a61d",
   "metadata": {},
   "outputs": [
    {
     "data": {
      "text/plain": [
       "<AxesSubplot:xlabel='Brand'>"
      ]
     },
     "execution_count": 7,
     "metadata": {},
     "output_type": "execute_result"
    },
    {
     "data": {
      "image/png": "[encoded data removed]",
      "text/plain": [
       "<Figure size 432x288 with 1 Axes>"
      ]
     },
     "metadata": {},
     "output_type": "display_data"
    }
   ],
   "source": [
    "top10_brands = df[\"Brand\"].value_counts()[:10]\n",
    "sns.barplot(x= top10_brands , y = top10_brands.index)"
   ]
  },
  {
   "cell_type": "markdown",
   "id": "2397cc07",
   "metadata": {},
   "source": [
    "**Top 10** Most popular car models sold "
   ]
  },
  {
   "cell_type": "code",
   "execution_count": 8,
   "id": "a47f6597",
   "metadata": {},
   "outputs": [
    {
     "data": {
      "text/plain": [
       "<AxesSubplot:xlabel='Model'>"
      ]
     },
     "execution_count": 8,
     "metadata": {},
     "output_type": "execute_result"
    },
    {
     "data": {
      "image/png": "[encoded data removed]",
      "text/plain": [
       "<Figure size 432x288 with 1 Axes>"
      ]
     },
     "metadata": {},
     "output_type": "display_data"
    }
   ],
   "source": [
    "top10_models = df[\"Model\"].value_counts()[:10]\n",
    "sns.barplot(x= top10_models , y = top10_models.index)"
   ]
  },
  {
   "cell_type": "markdown",
   "id": "37cdb9c3",
   "metadata": {},
   "source": [
    "**Car Prices** increasing with year"
   ]
  },
  {
   "cell_type": "code",
   "execution_count": 9,
   "id": "f563a6af",
   "metadata": {},
   "outputs": [
    {
     "data": {
      "text/plain": [
       "<AxesSubplot:xlabel='Year', ylabel='Price'>"
      ]
     },
     "execution_count": 9,
     "metadata": {},
     "output_type": "execute_result"
    },
    {
     "data": {
      "image/png": "[encoded data removed]",
      "text/plain": [
       "<Figure size 432x288 with 1 Axes>"
      ]
     },
     "metadata": {},
     "output_type": "display_data"
    }
   ],
   "source": [
    "# Prices of cars increases as the year of the model increases\n",
    "sns.lineplot(data=df,x='Year',y='Price')"
   ]
  },
  {
   "cell_type": "markdown",
   "id": "82668486",
   "metadata": {},
   "source": [
    "**The Condition** of a car has a positive impact on the price of a car, with brand new cars being more expensive than used cars by a huge magnitude."
   ]
  },
  {
   "cell_type": "code",
   "execution_count": 10,
   "id": "31346e01",
   "metadata": {},
   "outputs": [
    {
     "data": {
      "text/plain": [
       "<AxesSubplot:xlabel='Condition', ylabel='Price'>"
      ]
     },
     "execution_count": 10,
     "metadata": {},
     "output_type": "execute_result"
    },
    {
     "data": {
      "image/png": "[encoded data removed]",
      "text/plain": [
       "<Figure size 432x288 with 1 Axes>"
      ]
     },
     "metadata": {},
     "output_type": "display_data"
    }
   ],
   "source": [
    "# condition of car has a high effect on the price of the car\n",
    "sns.barplot(data=df,x='Condition',y='Price')"
   ]
  },
  {
   "cell_type": "code",
   "execution_count": 11,
   "id": "763d2d12",
   "metadata": {},
   "outputs": [
    {
     "data": {
      "text/plain": [
       "<AxesSubplot:xlabel='Price', ylabel='Color'>"
      ]
     },
     "execution_count": 11,
     "metadata": {},
     "output_type": "execute_result"
    },
    {
     "data": {
      "image/png": "[encoded data removed]",
      "text/plain": [
       "<Figure size 432x288 with 1 Axes>"
      ]
     },
     "metadata": {},
     "output_type": "display_data"
    }
   ],
   "source": [
    "## too much variation and outliers in the data to see if color has an effect on the price of car\n",
    "sns.barplot(data=df,y='Color',x='Price')"
   ]
  },
  {
   "cell_type": "markdown",
   "id": "b6acee74",
   "metadata": {},
   "source": [
    "**Number of cylinders** seems to have a positive correlation with the price of a car but due to the small size of the dataset, the trend cannot be fully shown"
   ]
  },
  {
   "cell_type": "code",
   "execution_count": 12,
   "id": "39018dc4",
   "metadata": {},
   "outputs": [
    {
     "data": {
      "text/html": [
       "<div>\n",
       "<style scoped>\n",
       "    .dataframe tbody tr th:only-of-type {\n",
       "        vertical-align: middle;\n",
       "    }\n",
       "\n",
       "    .dataframe tbody tr th {\n",
       "        vertical-align: top;\n",
       "    }\n",
       "\n",
       "    .dataframe thead th {\n",
       "        text-align: right;\n",
       "    }\n",
       "</style>\n",
       "<table border=\"1\" class=\"dataframe\">\n",
       "  <thead>\n",
       "    <tr style=\"text-align: right;\">\n",
       "      <th></th>\n",
       "      <th>Number of Cylinders</th>\n",
       "      <th>Price</th>\n",
       "    </tr>\n",
       "  </thead>\n",
       "  <tbody>\n",
       "    <tr>\n",
       "      <th>Number of Cylinders</th>\n",
       "      <td>1.000000</td>\n",
       "      <td>0.238614</td>\n",
       "    </tr>\n",
       "    <tr>\n",
       "      <th>Price</th>\n",
       "      <td>0.238614</td>\n",
       "      <td>1.000000</td>\n",
       "    </tr>\n",
       "  </tbody>\n",
       "</table>\n",
       "</div>"
      ],
      "text/plain": [
       "                     Number of Cylinders     Price\n",
       "Number of Cylinders             1.000000  0.238614\n",
       "Price                           0.238614  1.000000"
      ]
     },
     "execution_count": 12,
     "metadata": {},
     "output_type": "execute_result"
    },
    {
     "data": {
      "image/png": "[encoded data removed]",
      "text/plain": [
       "<Figure size 1152x288 with 3 Axes>"
      ]
     },
     "metadata": {},
     "output_type": "display_data"
    }
   ],
   "source": [
    "# plotting the number of cylinders\n",
    "fig,axes = plt.subplots(1,3)\n",
    "fig.set_figheight(4), \n",
    "fig.set_figwidth(16)\n",
    "sns.countplot(data=df,x='Number of Cylinders',ax=axes[0])\n",
    "sns.barplot(data=df,x='Number of Cylinders',y='Price',ax=axes[1])\n",
    "sns.lineplot(data=df,x='Number of Cylinders',y='Price',ax=axes[2])\n",
    "df[['Number of Cylinders','Price']].corr()"
   ]
  },
  {
   "cell_type": "code",
   "execution_count": 13,
   "id": "a403ebeb",
   "metadata": {},
   "outputs": [
    {
     "data": {
      "text/plain": [
       "Model    Year\n",
       "Camry    2007    70\n",
       "         2009    42\n",
       "Corolla  2009    39\n",
       "Camry    2012    39\n",
       "Corolla  2005    34\n",
       "                 ..\n",
       "HiAce    2010     1\n",
       "Golf     2012     1\n",
       "         2009     1\n",
       "         2006     1\n",
       "Yaris    2020     1\n",
       "Length: 648, dtype: int64"
      ]
     },
     "execution_count": 13,
     "metadata": {},
     "output_type": "execute_result"
    }
   ],
   "source": [
    "df[[\"Model\",\"Year\"]].value_counts()"
   ]
  },
  {
   "cell_type": "markdown",
   "id": "a4deb8cd",
   "metadata": {},
   "source": [
    "Due to the fact that car models released in the same year usually have the same **Number of Cylinders** and **Engine Capacity** we can impute missing values in the **Number of Cylinders** and **Engine Capacity** columns through this fact"
   ]
  },
  {
   "cell_type": "code",
   "execution_count": 14,
   "id": "c8ef3e52",
   "metadata": {},
   "outputs": [],
   "source": [
    "model_year_cylinders = dict(df.groupby([\"Model\",'Year'])[\"Number of Cylinders\"].apply(lambda x:np.floor(np.mean(x))))\n",
    "model_year_engine_capacity = dict(df.groupby([\"Model\",'Year'])[\"Engine Capacity\"].apply(lambda x:np.floor(np.mean(x))))"
   ]
  },
  {
   "cell_type": "code",
   "execution_count": 15,
   "id": "e1373e5a",
   "metadata": {},
   "outputs": [],
   "source": [
    "def approx_num_of_cylinders(x):\n",
    "    if x.name != 'Number of Cylinders':\n",
    "        return x\n",
    "    for index,val in enumerate(x.isna()):\n",
    "        if val == True:\n",
    "            c = df.iloc[index]\n",
    "            c = (c['Model'],c['Year'])\n",
    "            d = model_year_cylinders[c]\n",
    "            x[index]=d\n",
    "    return x\n",
    "\n",
    "def approx_engine_capacity(x):\n",
    "    if x.name != 'Engine Capacity':\n",
    "        return x\n",
    "    for index,val in enumerate(x.isna()):\n",
    "        if val == True:\n",
    "            c = df.iloc[index]\n",
    "            c = (c['Model'],c['Year'])\n",
    "            d = model_year_engine_capacity[c]\n",
    "            x[index]=d\n",
    "    return x"
   ]
  },
  {
   "cell_type": "code",
   "execution_count": 16,
   "id": "dbb1f6c1",
   "metadata": {},
   "outputs": [],
   "source": [
    "## approximating the num of cylinders by the car year and model\n",
    "df = df.apply(approx_num_of_cylinders)"
   ]
  },
  {
   "cell_type": "code",
   "execution_count": 284,
   "id": "20fe7356",
   "metadata": {},
   "outputs": [],
   "source": [
    "## approximating the engine capacity by the car year and model\n",
    "df = df.apply(approx_engine_capacity)"
   ]
  },
  {
   "cell_type": "markdown",
   "id": "ac339a74",
   "metadata": {},
   "source": [
    "### Model Building\n",
    "We are going to train and fine tune 3 machine learning models which are listed below:  \n",
    "- **Ridge**\n",
    "- **Decision Tree**\n",
    "- **Random Forest**"
   ]
  },
  {
   "cell_type": "code",
   "execution_count": 280,
   "id": "1e387583",
   "metadata": {},
   "outputs": [],
   "source": [
    "# importing packages for building our model\n",
    "\n",
    "from sklearn.linear_model import  Ridge\n",
    "from sklearn.tree import DecisionTreeRegressor\n",
    "from sklearn.ensemble import RandomForestRegressor\n",
    "\n",
    "from sklearn.model_selection import train_test_split,GridSearchCV\n",
    "from sklearn.preprocessing import OrdinalEncoder,StandardScaler,PolynomialFeatures\n",
    "from sklearn.compose import ColumnTransformer\n",
    "from sklearn.metrics import mean_absolute_error,mean_squared_error\n",
    "from sklearn.impute import KNNImputer"
   ]
  },
  {
   "cell_type": "code",
   "execution_count": 19,
   "id": "73a3d103",
   "metadata": {},
   "outputs": [],
   "source": [
    "## Creating our train and test set\n",
    "train,test = train_test_split(df,test_size=0.15,stratify=df['Model'])"
   ]
  },
  {
   "cell_type": "markdown",
   "id": "c28a87a2",
   "metadata": {},
   "source": [
    " ### Mean Target Encoding\n",
    "Due to the sheer number of categorical values in the **Brand** and **Model** columns, we are going to use their target mean encoding instead of one hot encoding to represent them in our models."
   ]
  },
  {
   "cell_type": "code",
   "execution_count": 20,
   "id": "fe9c92c3",
   "metadata": {},
   "outputs": [],
   "source": [
    "# getting the average price per brand\n",
    "brand_encoding_dict  =  dict(train.groupby(\"Brand\")['Price'].mean().sort_values(ascending=False))\n",
    "model_encoding_dict  =  dict(train.groupby(\"Model\")['Price'].mean().sort_values(ascending=False))"
   ]
  },
  {
   "cell_type": "code",
   "execution_count": 359,
   "id": "061c7f7b",
   "metadata": {},
   "outputs": [],
   "source": [
    "train = train.assign(brand_mean_encoding= train['Brand'].apply(lambda x: brand_encoding_dict[x]),\n",
    "                     model_mean_encoding = train['Model'].apply(lambda x:model_encoding_dict[x]))\n",
    "\n",
    "test = test.assign(brand_mean_encoding= test['Brand'].apply(lambda x: brand_encoding_dict[x]),\n",
    "                     model_mean_encoding = test['Model'].apply(lambda x:model_encoding_dict[x]))\n",
    "\n",
    "X_train=train.drop('Price', axis =1)\n",
    "y_train = train['Price']\n",
    "\n",
    "X_test = test.drop(\"Price\",axis=1)\n",
    "y_test = test['Price']"
   ]
  },
  {
   "cell_type": "code",
   "execution_count": 285,
   "id": "95e0a6f2",
   "metadata": {},
   "outputs": [],
   "source": [
    "## creating a pipeline\n",
    "con_order = [['Locally Used','Foreign Used',\"Brand New\"]]\n",
    "pipeline = ColumnTransformer([\n",
    "        (\"ordinal_condition\",OrdinalEncoder(categories=con_order),['Condition']),\n",
    "        (\"scaler\",StandardScaler(),['brand_mean_encoding','model_mean_encoding','Mileage']),\n",
    "        (\"impute\",KNNImputer(),['Engine Capacity','Number of Cylinders']),\n",
    "        (\"drop\",\"drop\",[\"Ratings\",\"Color\",'Brand','Model'])\n",
    "],remainder='passthrough')\n",
    "pipe_reg = pipeline.fit(X_train)\n",
    "X_pipeline = pipe_reg.transform(X_train)"
   ]
  },
  {
   "cell_type": "markdown",
   "id": "f3e54d15",
   "metadata": {},
   "source": [
    "### 1. Ridge Regression\n",
    "We are going to create our first model,using ridge regression model and polynomial features."
   ]
  },
  {
   "cell_type": "code",
   "execution_count": 286,
   "id": "dca0ea0e",
   "metadata": {},
   "outputs": [],
   "source": [
    "## using polynomial feature with the pipeline\n",
    "X_pipeline_ridge = PolynomialFeatures(degree=3).fit_transform(X_pipeline)"
   ]
  },
  {
   "cell_type": "code",
   "execution_count": 293,
   "id": "b7e44ae3",
   "metadata": {},
   "outputs": [
    {
     "data": {
      "text/plain": [
       "Ridge(alpha=100, solver='svd')"
      ]
     },
     "execution_count": 293,
     "metadata": {},
     "output_type": "execute_result"
    }
   ],
   "source": [
    "ridge_param_grid={'alpha':[0.1,0.01,1,10,100]}\n",
    "\n",
    "gs_ridge = GridSearchCV(Ridge(solver='svd'),param_grid=ridge_param_grid,scoring=\"neg_mean_absolute_error\")\n",
    "gs_ridge.fit(X_pipeline_ridge,y_train)\n",
    "gs_ridge.best_estimator_"
   ]
  },
  {
   "cell_type": "code",
   "execution_count": 294,
   "id": "e97c2f06",
   "metadata": {},
   "outputs": [
    {
     "name": "stdout",
     "output_type": "stream",
     "text": [
      "Mean Absolute Error Score using Ridge :1623383\n"
     ]
    }
   ],
   "source": [
    "## using the best model from GridSearchCV\n",
    "ridge = Ridge(alpha=100,solver='svd')\n",
    "ridge.fit(X_pipeline_ridge,y_train);\n",
    "\n",
    "pred = ridge.predict(X_pipeline_ridge)\n",
    "mae_ridge = mean_absolute_error(pred,y_train)\n",
    "print(f\"Mean Absolute Error Score using Ridge :{mae_ridge:.0f}\")"
   ]
  },
  {
   "cell_type": "markdown",
   "id": "915ff4ba",
   "metadata": {},
   "source": [
    "## 2. Decision Tree\n",
    "We are going to create our second model using decision tree"
   ]
  },
  {
   "cell_type": "code",
   "execution_count": 414,
   "id": "9a43da67",
   "metadata": {},
   "outputs": [
    {
     "data": {
      "text/plain": [
       "DecisionTreeRegressor(criterion='mae', max_depth=7, min_samples_leaf=2,\n",
       "                      min_samples_split=4)"
      ]
     },
     "execution_count": 414,
     "metadata": {},
     "output_type": "execute_result"
    }
   ],
   "source": [
    "dt_param_grid={\n",
    "    'max_depth':[7,8,9,10,11],\n",
    "    'criterion':['mae'],\n",
    "    'min_samples_leaf': [2,3,4,5],\n",
    "    'min_samples_split':[2,3,4,5],\n",
    "              }\n",
    "\n",
    "gs_tree = GridSearchCV(DecisionTreeRegressor(),param_grid=dt_param_grid,scoring=\"neg_mean_absolute_error\",cv=5,)\n",
    "gs_tree.fit(X_pipeline,y_train)\n",
    "gs_tree.best_estimator_"
   ]
  },
  {
   "cell_type": "code",
   "execution_count": 425,
   "id": "1798a671",
   "metadata": {},
   "outputs": [
    {
     "name": "stdout",
     "output_type": "stream",
     "text": [
      "Mean Absolute Error Score using Decision Tree :1096355\n"
     ]
    }
   ],
   "source": [
    "tree = DecisionTreeRegressor(criterion='mae', max_depth=7, min_samples_leaf=2,min_samples_split=4)\n",
    "tree.fit(X_pipeline,y_train)\n",
    "\n",
    "pred = tree.predict(X_pipeline)\n",
    "mae_tree = mean_absolute_error(pred,y_train)\n",
    "print(f\"Mean Absolute Error Score using Decision Tree :{mae_tree:.0f}\")"
   ]
  },
  {
   "cell_type": "markdown",
   "id": "acb86f72",
   "metadata": {},
   "source": [
    "## 3. Random Forest\n",
    "Finally, we are going to create the last model, which is the Random Forest"
   ]
  },
  {
   "cell_type": "code",
   "execution_count": 467,
   "id": "c04df464",
   "metadata": {},
   "outputs": [
    {
     "data": {
      "text/plain": [
       "RandomForestRegressor(criterion='mae', max_depth=9, min_samples_leaf=3)"
      ]
     },
     "execution_count": 467,
     "metadata": {},
     "output_type": "execute_result"
    }
   ],
   "source": [
    "rf_param_grid={\n",
    "    'max_depth':[6,7,9],\n",
    "    'criterion':['mae'],\n",
    "    'min_samples_split':[2,3,4],\n",
    "    'min_samples_leaf':[2,3],\n",
    "    }\n",
    "gs_rf = GridSearchCV(RandomForestRegressor(),param_grid=rf_param_grid,scoring=\"neg_mean_absolute_error\")\n",
    "gs_rf.fit(X_pipeline,y_train)\n",
    "gs_rf.best_estimator_"
   ]
  },
  {
   "cell_type": "code",
   "execution_count": 476,
   "id": "fc7624f0",
   "metadata": {},
   "outputs": [
    {
     "name": "stdout",
     "output_type": "stream",
     "text": [
      "Mean Absolute Error Score using Random Forest:946638\n"
     ]
    }
   ],
   "source": [
    "rf = RandomForestRegressor(criterion='mae', max_depth=9, min_samples_leaf=3)\n",
    "rf.fit(X_pipeline,y_train)\n",
    "\n",
    "pred = rf.predict(X_pipeline)\n",
    "mae_rf = mean_absolute_error(pred,y_train)\n",
    "print(f\"Mean Absolute Error Score using Random Forest:{mae_rf:.0f}\")"
   ]
  },
  {
   "cell_type": "markdown",
   "id": "7c457037",
   "metadata": {},
   "source": [
    "#### Evaluating on the test set\n",
    "Since the Random Forest model outperformed all other models on the training and test sets, we are going to use that as our final model and evaluate it on the test set"
   ]
  },
  {
   "cell_type": "code",
   "execution_count": 501,
   "id": "57fda06d",
   "metadata": {},
   "outputs": [
    {
     "name": "stdout",
     "output_type": "stream",
     "text": [
      "Mean Absolute Error Score using Random Forest:1102608\n",
      "Mean Absolute Error Score using Decision Tree:1359374\n"
     ]
    }
   ],
   "source": [
    "Xt_pipeline = pipe_reg.transform(X_test)\n",
    "pred = rf.predict(Xt_pipeline)\n",
    "mae_rf = mean_absolute_error(pred,y_test)\n",
    "print(f\"Mean Absolute Error Score using Random Forest:{mae_rf:.0f}\")\n",
    "\n",
    "#for references\n",
    "mae_tree = mean_absolute_error(tree.predict(Xt_pipeline),y_test)\n",
    "print(f\"Mean Absolute Error Score using Decision Tree:{mae_tree:.0f}\")"
   ]
  },
  {
   "cell_type": "markdown",
   "id": "bd4cf34f",
   "metadata": {},
   "source": [
    "### Saving The Best Model\n",
    "We are finally done with our machine learning model, and we are going to save it so that it can be used in production"
   ]
  },
  {
   "cell_type": "code",
   "execution_count": 495,
   "id": "18cf88c1",
   "metadata": {},
   "outputs": [],
   "source": [
    "import pickle\n",
    "pickl = {'model': gs_rf.best_estimator_,\n",
    "         \"brand_encodbrand_encoding_dict\":brand_encoding_dict,\n",
    "         \"model_encoding_dict\":model_encoding_dict,\n",
    "         \"pipeline\":pipeline,\n",
    "        }\n",
    "pickle.dump( pickl, open( 'saved_model' + \".pkl\", \"wb\" ) )"
   ]
  }
 ],
 "metadata": {
  "kernelspec": {
   "display_name": "Python 3 (ipykernel)",
   "language": "python",
   "name": "python3"
  },
  "language_info": {
   "codemirror_mode": {
    "name": "ipython",
    "version": 3
   },
   "file_extension": ".py",
   "mimetype": "text/x-python",
   "name": "python",
   "nbconvert_exporter": "python",
   "pygments_lexer": "ipython3",
   "version": "3.9.7"
  }
 },
 "nbformat": 4,
 "nbformat_minor": 5
}
